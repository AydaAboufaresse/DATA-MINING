{
  "nbformat": 4,
  "nbformat_minor": 0,
  "metadata": {
    "colab": {
      "provenance": [],
      "authorship_tag": "ABX9TyNE0EAX/lq3vtfvxD940pmy",
      "include_colab_link": true
    },
    "kernelspec": {
      "name": "python3",
      "display_name": "Python 3"
    },
    "language_info": {
      "name": "python"
    }
  },
  "cells": [
    {
      "cell_type": "markdown",
      "metadata": {
        "id": "view-in-github",
        "colab_type": "text"
      },
      "source": [
        "<a href=\"https://colab.research.google.com/github/AydaAboufaresse/DATA-MINING/blob/main/FLOW2.ipynb\" target=\"_parent\"><img src=\"https://colab.research.google.com/assets/colab-badge.svg\" alt=\"Open In Colab\"/></a>"
      ]
    },
    {
      "cell_type": "code",
      "source": [
        "# Required libraries\n",
        "import pandas as pd\n",
        "import numpy as np\n",
        "from nltk.tokenize import word_tokenize\n",
        "from nltk.corpus import stopwords\n",
        "from sklearn.model_selection import train_test_split\n",
        "from sklearn.svm import SVC\n",
        "from sklearn.metrics import classification_report, accuracy_score, confusion_matrix\n",
        "from sklearn.preprocessing import LabelEncoder\n",
        "import nltk\n",
        "import seaborn as sns\n",
        "import matplotlib.pyplot as plt\n",
        "\n",
        "# Ensure necessary NLTK resources are downloaded\n",
        "nltk.download('punkt')\n",
        "nltk.download('stopwords')\n",
        "\n",
        "# Load the dataset\n",
        "df = pd.read_csv('articles.csv')"
      ],
      "metadata": {
        "id": "V1dVKF67TIPV",
        "colab": {
          "base_uri": "https://localhost:8080/"
        },
        "outputId": "cd4c0850-2541-46dd-b0da-42ddf6673c97"
      },
      "execution_count": 12,
      "outputs": [
        {
          "output_type": "stream",
          "name": "stderr",
          "text": [
            "[nltk_data] Downloading package punkt to /root/nltk_data...\n",
            "[nltk_data]   Package punkt is already up-to-date!\n",
            "[nltk_data] Downloading package stopwords to /root/nltk_data...\n",
            "[nltk_data]   Package stopwords is already up-to-date!\n"
          ]
        }
      ]
    },
    {
      "cell_type": "code",
      "source": [
        "\n",
        "# --- EDA ---\n",
        "print(\"Dataset Shape:\", df.shape)\n",
        "print(\"Missing Values:\\n\", df.isnull().sum())\n",
        "print(\"Duplicated Rows:\", df.duplicated().sum())\n",
        "print(\"\\nSample Titles:\\n\", df['title'].head(5))\n"
      ],
      "metadata": {
        "colab": {
          "base_uri": "https://localhost:8080/"
        },
        "id": "xAc03F6DTMB9",
        "outputId": "983911dd-8ac0-4f9e-d9c8-114ee0367930"
      },
      "execution_count": 13,
      "outputs": [
        {
          "output_type": "stream",
          "name": "stdout",
          "text": [
            "Dataset Shape: (337, 6)\n",
            "Missing Values:\n",
            " author          0\n",
            "claps           0\n",
            "reading_time    0\n",
            "link            0\n",
            "title           0\n",
            "text            0\n",
            "dtype: int64\n",
            "Duplicated Rows: 0\n",
            "\n",
            "Sample Titles:\n",
            " 0    Chatbots were the next big thing: what happene...\n",
            "1    Python for Data Science: 8 Concepts You May Ha...\n",
            "2    Automated Feature Engineering in Python – Towa...\n",
            "3    Machine Learning: how to go from Zero to Hero ...\n",
            "4    Reinforcement Learning from scratch – Insight ...\n",
            "Name: title, dtype: object\n"
          ]
        }
      ]
    },
    {
      "cell_type": "code",
      "source": [
        "print(\"Dataset Overview:\")\n",
        "df.head()"
      ],
      "metadata": {
        "id": "xw9QcRMsTS3c",
        "colab": {
          "base_uri": "https://localhost:8080/",
          "height": 310
        },
        "outputId": "43865442-6c25-4705-8590-bd75be0ce51e"
      },
      "execution_count": 14,
      "outputs": [
        {
          "output_type": "stream",
          "name": "stdout",
          "text": [
            "Dataset Overview:\n"
          ]
        },
        {
          "output_type": "execute_result",
          "data": {
            "text/plain": [
              "             author claps  reading_time  \\\n",
              "0        Justin Lee  8.3K            11   \n",
              "1       Conor Dewey  1.4K             7   \n",
              "2  William Koehrsen  2.8K            11   \n",
              "3      Gant Laborde  1.3K             7   \n",
              "4  Emmanuel Ameisen   935            11   \n",
              "\n",
              "                                                link  \\\n",
              "0  https://medium.com/swlh/chatbots-were-the-next...   \n",
              "1  https://towardsdatascience.com/python-for-data...   \n",
              "2  https://towardsdatascience.com/automated-featu...   \n",
              "3  https://medium.freecodecamp.org/machine-learni...   \n",
              "4  https://blog.insightdatascience.com/reinforcem...   \n",
              "\n",
              "                                               title  \\\n",
              "0  Chatbots were the next big thing: what happene...   \n",
              "1  Python for Data Science: 8 Concepts You May Ha...   \n",
              "2  Automated Feature Engineering in Python – Towa...   \n",
              "3  Machine Learning: how to go from Zero to Hero ...   \n",
              "4  Reinforcement Learning from scratch – Insight ...   \n",
              "\n",
              "                                                text  \n",
              "0  Oh, how the headlines blared:\\nChatbots were T...  \n",
              "1  If you’ve ever found yourself looking up the s...  \n",
              "2  Machine learning is increasingly moving from h...  \n",
              "3  If your understanding of A.I. and Machine Lear...  \n",
              "4  Want to learn about applied Artificial Intelli...  "
            ],
            "text/html": [
              "\n",
              "  <div id=\"df-0f4ef058-7e8a-45bb-9b4b-ba413d7536e7\" class=\"colab-df-container\">\n",
              "    <div>\n",
              "<style scoped>\n",
              "    .dataframe tbody tr th:only-of-type {\n",
              "        vertical-align: middle;\n",
              "    }\n",
              "\n",
              "    .dataframe tbody tr th {\n",
              "        vertical-align: top;\n",
              "    }\n",
              "\n",
              "    .dataframe thead th {\n",
              "        text-align: right;\n",
              "    }\n",
              "</style>\n",
              "<table border=\"1\" class=\"dataframe\">\n",
              "  <thead>\n",
              "    <tr style=\"text-align: right;\">\n",
              "      <th></th>\n",
              "      <th>author</th>\n",
              "      <th>claps</th>\n",
              "      <th>reading_time</th>\n",
              "      <th>link</th>\n",
              "      <th>title</th>\n",
              "      <th>text</th>\n",
              "    </tr>\n",
              "  </thead>\n",
              "  <tbody>\n",
              "    <tr>\n",
              "      <th>0</th>\n",
              "      <td>Justin Lee</td>\n",
              "      <td>8.3K</td>\n",
              "      <td>11</td>\n",
              "      <td>https://medium.com/swlh/chatbots-were-the-next...</td>\n",
              "      <td>Chatbots were the next big thing: what happene...</td>\n",
              "      <td>Oh, how the headlines blared:\\nChatbots were T...</td>\n",
              "    </tr>\n",
              "    <tr>\n",
              "      <th>1</th>\n",
              "      <td>Conor Dewey</td>\n",
              "      <td>1.4K</td>\n",
              "      <td>7</td>\n",
              "      <td>https://towardsdatascience.com/python-for-data...</td>\n",
              "      <td>Python for Data Science: 8 Concepts You May Ha...</td>\n",
              "      <td>If you’ve ever found yourself looking up the s...</td>\n",
              "    </tr>\n",
              "    <tr>\n",
              "      <th>2</th>\n",
              "      <td>William Koehrsen</td>\n",
              "      <td>2.8K</td>\n",
              "      <td>11</td>\n",
              "      <td>https://towardsdatascience.com/automated-featu...</td>\n",
              "      <td>Automated Feature Engineering in Python – Towa...</td>\n",
              "      <td>Machine learning is increasingly moving from h...</td>\n",
              "    </tr>\n",
              "    <tr>\n",
              "      <th>3</th>\n",
              "      <td>Gant Laborde</td>\n",
              "      <td>1.3K</td>\n",
              "      <td>7</td>\n",
              "      <td>https://medium.freecodecamp.org/machine-learni...</td>\n",
              "      <td>Machine Learning: how to go from Zero to Hero ...</td>\n",
              "      <td>If your understanding of A.I. and Machine Lear...</td>\n",
              "    </tr>\n",
              "    <tr>\n",
              "      <th>4</th>\n",
              "      <td>Emmanuel Ameisen</td>\n",
              "      <td>935</td>\n",
              "      <td>11</td>\n",
              "      <td>https://blog.insightdatascience.com/reinforcem...</td>\n",
              "      <td>Reinforcement Learning from scratch – Insight ...</td>\n",
              "      <td>Want to learn about applied Artificial Intelli...</td>\n",
              "    </tr>\n",
              "  </tbody>\n",
              "</table>\n",
              "</div>\n",
              "    <div class=\"colab-df-buttons\">\n",
              "\n",
              "  <div class=\"colab-df-container\">\n",
              "    <button class=\"colab-df-convert\" onclick=\"convertToInteractive('df-0f4ef058-7e8a-45bb-9b4b-ba413d7536e7')\"\n",
              "            title=\"Convert this dataframe to an interactive table.\"\n",
              "            style=\"display:none;\">\n",
              "\n",
              "  <svg xmlns=\"http://www.w3.org/2000/svg\" height=\"24px\" viewBox=\"0 -960 960 960\">\n",
              "    <path d=\"M120-120v-720h720v720H120Zm60-500h600v-160H180v160Zm220 220h160v-160H400v160Zm0 220h160v-160H400v160ZM180-400h160v-160H180v160Zm440 0h160v-160H620v160ZM180-180h160v-160H180v160Zm440 0h160v-160H620v160Z\"/>\n",
              "  </svg>\n",
              "    </button>\n",
              "\n",
              "  <style>\n",
              "    .colab-df-container {\n",
              "      display:flex;\n",
              "      gap: 12px;\n",
              "    }\n",
              "\n",
              "    .colab-df-convert {\n",
              "      background-color: #E8F0FE;\n",
              "      border: none;\n",
              "      border-radius: 50%;\n",
              "      cursor: pointer;\n",
              "      display: none;\n",
              "      fill: #1967D2;\n",
              "      height: 32px;\n",
              "      padding: 0 0 0 0;\n",
              "      width: 32px;\n",
              "    }\n",
              "\n",
              "    .colab-df-convert:hover {\n",
              "      background-color: #E2EBFA;\n",
              "      box-shadow: 0px 1px 2px rgba(60, 64, 67, 0.3), 0px 1px 3px 1px rgba(60, 64, 67, 0.15);\n",
              "      fill: #174EA6;\n",
              "    }\n",
              "\n",
              "    .colab-df-buttons div {\n",
              "      margin-bottom: 4px;\n",
              "    }\n",
              "\n",
              "    [theme=dark] .colab-df-convert {\n",
              "      background-color: #3B4455;\n",
              "      fill: #D2E3FC;\n",
              "    }\n",
              "\n",
              "    [theme=dark] .colab-df-convert:hover {\n",
              "      background-color: #434B5C;\n",
              "      box-shadow: 0px 1px 3px 1px rgba(0, 0, 0, 0.15);\n",
              "      filter: drop-shadow(0px 1px 2px rgba(0, 0, 0, 0.3));\n",
              "      fill: #FFFFFF;\n",
              "    }\n",
              "  </style>\n",
              "\n",
              "    <script>\n",
              "      const buttonEl =\n",
              "        document.querySelector('#df-0f4ef058-7e8a-45bb-9b4b-ba413d7536e7 button.colab-df-convert');\n",
              "      buttonEl.style.display =\n",
              "        google.colab.kernel.accessAllowed ? 'block' : 'none';\n",
              "\n",
              "      async function convertToInteractive(key) {\n",
              "        const element = document.querySelector('#df-0f4ef058-7e8a-45bb-9b4b-ba413d7536e7');\n",
              "        const dataTable =\n",
              "          await google.colab.kernel.invokeFunction('convertToInteractive',\n",
              "                                                    [key], {});\n",
              "        if (!dataTable) return;\n",
              "\n",
              "        const docLinkHtml = 'Like what you see? Visit the ' +\n",
              "          '<a target=\"_blank\" href=https://colab.research.google.com/notebooks/data_table.ipynb>data table notebook</a>'\n",
              "          + ' to learn more about interactive tables.';\n",
              "        element.innerHTML = '';\n",
              "        dataTable['output_type'] = 'display_data';\n",
              "        await google.colab.output.renderOutput(dataTable, element);\n",
              "        const docLink = document.createElement('div');\n",
              "        docLink.innerHTML = docLinkHtml;\n",
              "        element.appendChild(docLink);\n",
              "      }\n",
              "    </script>\n",
              "  </div>\n",
              "\n",
              "\n",
              "<div id=\"df-ec7ed644-28c2-4091-9da5-8a14516fdbcb\">\n",
              "  <button class=\"colab-df-quickchart\" onclick=\"quickchart('df-ec7ed644-28c2-4091-9da5-8a14516fdbcb')\"\n",
              "            title=\"Suggest charts\"\n",
              "            style=\"display:none;\">\n",
              "\n",
              "<svg xmlns=\"http://www.w3.org/2000/svg\" height=\"24px\"viewBox=\"0 0 24 24\"\n",
              "     width=\"24px\">\n",
              "    <g>\n",
              "        <path d=\"M19 3H5c-1.1 0-2 .9-2 2v14c0 1.1.9 2 2 2h14c1.1 0 2-.9 2-2V5c0-1.1-.9-2-2-2zM9 17H7v-7h2v7zm4 0h-2V7h2v10zm4 0h-2v-4h2v4z\"/>\n",
              "    </g>\n",
              "</svg>\n",
              "  </button>\n",
              "\n",
              "<style>\n",
              "  .colab-df-quickchart {\n",
              "      --bg-color: #E8F0FE;\n",
              "      --fill-color: #1967D2;\n",
              "      --hover-bg-color: #E2EBFA;\n",
              "      --hover-fill-color: #174EA6;\n",
              "      --disabled-fill-color: #AAA;\n",
              "      --disabled-bg-color: #DDD;\n",
              "  }\n",
              "\n",
              "  [theme=dark] .colab-df-quickchart {\n",
              "      --bg-color: #3B4455;\n",
              "      --fill-color: #D2E3FC;\n",
              "      --hover-bg-color: #434B5C;\n",
              "      --hover-fill-color: #FFFFFF;\n",
              "      --disabled-bg-color: #3B4455;\n",
              "      --disabled-fill-color: #666;\n",
              "  }\n",
              "\n",
              "  .colab-df-quickchart {\n",
              "    background-color: var(--bg-color);\n",
              "    border: none;\n",
              "    border-radius: 50%;\n",
              "    cursor: pointer;\n",
              "    display: none;\n",
              "    fill: var(--fill-color);\n",
              "    height: 32px;\n",
              "    padding: 0;\n",
              "    width: 32px;\n",
              "  }\n",
              "\n",
              "  .colab-df-quickchart:hover {\n",
              "    background-color: var(--hover-bg-color);\n",
              "    box-shadow: 0 1px 2px rgba(60, 64, 67, 0.3), 0 1px 3px 1px rgba(60, 64, 67, 0.15);\n",
              "    fill: var(--button-hover-fill-color);\n",
              "  }\n",
              "\n",
              "  .colab-df-quickchart-complete:disabled,\n",
              "  .colab-df-quickchart-complete:disabled:hover {\n",
              "    background-color: var(--disabled-bg-color);\n",
              "    fill: var(--disabled-fill-color);\n",
              "    box-shadow: none;\n",
              "  }\n",
              "\n",
              "  .colab-df-spinner {\n",
              "    border: 2px solid var(--fill-color);\n",
              "    border-color: transparent;\n",
              "    border-bottom-color: var(--fill-color);\n",
              "    animation:\n",
              "      spin 1s steps(1) infinite;\n",
              "  }\n",
              "\n",
              "  @keyframes spin {\n",
              "    0% {\n",
              "      border-color: transparent;\n",
              "      border-bottom-color: var(--fill-color);\n",
              "      border-left-color: var(--fill-color);\n",
              "    }\n",
              "    20% {\n",
              "      border-color: transparent;\n",
              "      border-left-color: var(--fill-color);\n",
              "      border-top-color: var(--fill-color);\n",
              "    }\n",
              "    30% {\n",
              "      border-color: transparent;\n",
              "      border-left-color: var(--fill-color);\n",
              "      border-top-color: var(--fill-color);\n",
              "      border-right-color: var(--fill-color);\n",
              "    }\n",
              "    40% {\n",
              "      border-color: transparent;\n",
              "      border-right-color: var(--fill-color);\n",
              "      border-top-color: var(--fill-color);\n",
              "    }\n",
              "    60% {\n",
              "      border-color: transparent;\n",
              "      border-right-color: var(--fill-color);\n",
              "    }\n",
              "    80% {\n",
              "      border-color: transparent;\n",
              "      border-right-color: var(--fill-color);\n",
              "      border-bottom-color: var(--fill-color);\n",
              "    }\n",
              "    90% {\n",
              "      border-color: transparent;\n",
              "      border-bottom-color: var(--fill-color);\n",
              "    }\n",
              "  }\n",
              "</style>\n",
              "\n",
              "  <script>\n",
              "    async function quickchart(key) {\n",
              "      const quickchartButtonEl =\n",
              "        document.querySelector('#' + key + ' button');\n",
              "      quickchartButtonEl.disabled = true;  // To prevent multiple clicks.\n",
              "      quickchartButtonEl.classList.add('colab-df-spinner');\n",
              "      try {\n",
              "        const charts = await google.colab.kernel.invokeFunction(\n",
              "            'suggestCharts', [key], {});\n",
              "      } catch (error) {\n",
              "        console.error('Error during call to suggestCharts:', error);\n",
              "      }\n",
              "      quickchartButtonEl.classList.remove('colab-df-spinner');\n",
              "      quickchartButtonEl.classList.add('colab-df-quickchart-complete');\n",
              "    }\n",
              "    (() => {\n",
              "      let quickchartButtonEl =\n",
              "        document.querySelector('#df-ec7ed644-28c2-4091-9da5-8a14516fdbcb button');\n",
              "      quickchartButtonEl.style.display =\n",
              "        google.colab.kernel.accessAllowed ? 'block' : 'none';\n",
              "    })();\n",
              "  </script>\n",
              "</div>\n",
              "\n",
              "    </div>\n",
              "  </div>\n"
            ],
            "application/vnd.google.colaboratory.intrinsic+json": {
              "type": "dataframe",
              "variable_name": "df",
              "summary": "{\n  \"name\": \"df\",\n  \"rows\": 337,\n  \"fields\": [\n    {\n      \"column\": \"author\",\n      \"properties\": {\n        \"dtype\": \"string\",\n        \"num_unique_values\": 182,\n        \"samples\": [\n          \"Xu Wenhao\",\n          \"Illia Polosukhin\",\n          \"Bharath Raj\"\n        ],\n        \"semantic_type\": \"\",\n        \"description\": \"\"\n      }\n    },\n    {\n      \"column\": \"claps\",\n      \"properties\": {\n        \"dtype\": \"category\",\n        \"num_unique_values\": 163,\n        \"samples\": [\n          \"286\",\n          \"44K\",\n          \"558\"\n        ],\n        \"semantic_type\": \"\",\n        \"description\": \"\"\n      }\n    },\n    {\n      \"column\": \"reading_time\",\n      \"properties\": {\n        \"dtype\": \"number\",\n        \"std\": 5,\n        \"min\": 2,\n        \"max\": 31,\n        \"num_unique_values\": 25,\n        \"samples\": [\n          13,\n          23,\n          11\n        ],\n        \"semantic_type\": \"\",\n        \"description\": \"\"\n      }\n    },\n    {\n      \"column\": \"link\",\n      \"properties\": {\n        \"dtype\": \"string\",\n        \"num_unique_values\": 337,\n        \"samples\": [\n          \"https://medium.com/deep-learning-101/algorithms-of-the-mind-10eb13f61fc4?source=tag_archive---------0----------------\",\n          \"https://towardsdatascience.com/using-deep-q-learning-in-fifa-18-to-perfect-the-art-of-free-kicks-f2e4e979ee66?source=---------7----------------\",\n          \"https://medium.com/@ageitgey/machine-learning-is-fun-part-4-modern-face-recognition-with-deep-learning-c3cffc121d78?source=tag_archive---------2----------------\"\n        ],\n        \"semantic_type\": \"\",\n        \"description\": \"\"\n      }\n    },\n    {\n      \"column\": \"title\",\n      \"properties\": {\n        \"dtype\": \"string\",\n        \"num_unique_values\": 230,\n        \"samples\": [\n          \"Write an AI to win at Pong from scratch with Reinforcement Learning\",\n          \"A simple deep learning model for stock price prediction using TensorFlow\",\n          \"What I learned from interviewing at multiple AI companies and start-ups\"\n        ],\n        \"semantic_type\": \"\",\n        \"description\": \"\"\n      }\n    },\n    {\n      \"column\": \"text\",\n      \"properties\": {\n        \"dtype\": \"string\",\n        \"num_unique_values\": 230,\n        \"samples\": [\n          \"There\\u2019s a huge difference between reading about Reinforcement Learning and actually implementing it.\\nIn this post, you\\u2019ll implement a Neural Network for Reinforcement Learning and see it learn more and more as it finally becomes good enough to beat the computer in Pong! You can play around with other such Atari games at the OpenAI Gym.\\nBy the end of this post, you\\u2019ll be able to do the following:\\nThe code and the idea are all tightly based on Andrej Karpathy\\u2019s blog post. The code in me_pong.py is intended to be a simpler to follow version of pong.py which was written by Dr. Karpathy.\\nTo follow along, you\\u2019ll need to know the following:\\nIf you want a deeper dive into the material at hand, read the blog post on which all of this is based. This post is meant to be a simpler introduction to that material.\\nGreat! Let\\u2019s get started.\\nWe are given the following:\\nCan we use these pieces to train our agent to beat the computer? Moreover, can we make our solution generic enough so it can be reused to win in games that aren\\u2019t pong?\\nIndeed, we can! Andrej does this by building a Neural Network that takes in each image and outputs a command to our AI to move up or down.\\nWe can break this down a bit more into the following steps:\\nOur Neural Network, based heavily on Andrej\\u2019s solution, will do the following:\\nOk now that we\\u2019ve described the problem and its solution, let\\u2019s get to writing some code!\\nWe\\u2019re now going to follow the code in me_pong.py. Please keep it open and read along! The code starts here:\\nFirst, let\\u2019s use OpenAI Gym to make a game environment and get our very first image of the game.\\nNext, we set a bunch of parameters based off of Andrej\\u2019s blog post. We aren\\u2019t going to worry about tuning them but note that you can probably get better performance by doing so. The parameters we will use are:\\nThen, we set counters, initial values, and the initial weights in our Neural Network.\\nWeights are stored in matrices. Layer 1 of our Neural Network is a 200 x 6400 matrix representing the weights for our hidden layer. For layer 1, element w1_ij represents the weight of neuron i for input pixel j in layer 1.\\nLayer 2 is a 200 x 1 matrix representing the weights of the output of the hidden layer on our final output. For layer 2, element w2_i represents the weights we place on the activation of neuron i in the hidden layer.\\nWe initialize each layer\\u2019s weights with random numbers for now. We divide by the square root of the number of the dimension size to normalize our weights.\\nNext, we set up the initial parameters for RMSProp (a method for updating weights that we will discuss later). Don\\u2019t worry too much about understanding what you see below. I\\u2019m mainly bringing it up here so we can continue to follow along the main code block.\\nWe\\u2019ll need to collect a bunch of observations and intermediate values across the episode and use those to compute the gradient at the end based on the result. The below sets up the arrays where we\\u2019ll collect all that information.\\nOk we\\u2019re all done with the setup! If you were following, it should look something like this:\\nPhew. Now for the fun part!\\nThe crux of our algorithm is going to live in a loop where we continually make a move and then learn based on the results of the move. We\\u2019ll put everything in a while block for now but in reality you might set up a break condition to stop the process.\\nThe first step to our algorithm is processing the image of the game that OpenAI Gym passed us. We really don\\u2019t care about the entire image - just certain details. We do this below:\\nLet\\u2019s dive into preprocess_observations to see how we convert the image OpenAI Gym gives us into something we can use to train our Neural Network. The basic steps are:\\nNow that we\\u2019ve preprocessed the observations, let\\u2019s move on to actually sending the observations through our neural net to generate the probability of telling our AI to move up. Here are the steps we\\u2019ll take:\\nHow exactly does apply_neural_nets take observations and weights and generate a probability of going up? This is just the forward pass of the Neural Network. Let\\u2019s look at the code below for more information:\\nAs you can see, it\\u2019s not many steps at all! Let\\u2019s go step by step:\\nLet\\u2019s return to the main algorithm and continue on. Now that we have obtained a probability of going up, we need to now record the results for later learning and choose an action to tell our AI to implement:\\nWe choose an action by flipping an imaginary coin that lands \\u201cup\\u201d with probability up_probability and down with 1 - up_probability. If it lands up, we choose tell our AI to go up and if not, we tell it to go down. We also\\nHaving done that, we pass the action to OpenAI Gym via env.step(action).\\nOk we\\u2019ve covered the first half of the solution! We know what action to tell our AI to take. If you\\u2019ve been following along, your code should look like this:\\nNow that we\\u2019ve made our move, it\\u2019s time to start learning so we figure out the right weights in our Neural Network!\\nLearning is all about seeing the result of the action (i.e. whether or not we won the round) and changing our weights accordingly. The first step to learning is asking the following question:\\nMathematically, this is just the derivative of our result with respect to the outputs of our final layer. If L is the value of our result to us and f is the function that gives us the activations of our final layer, this derivative is just \\u2202L/\\u2202f.\\nIn a binary classification context (i.e. we just have to tell the AI one of two actions, up or down), this derivative turns out to be\\nNote that \\u03c3 in the above equation represents the sigmoid function. Read the Attribute Classification section here for more information about how we get the above derivative. We simplify this further below:\\nAfter one action(moving the paddle up or down), we don\\u2019t really have an idea of whether or not this was the right action. So we\\u2019re going to cheat and treat the action we end up sampling from our probability as the correct action.\\nOur predicion for this round is going to be the probability of going up we calculated. Using that, we have that \\u2202L/\\u2202f can be computed by\\nAwesome! We have the gradient per action.\\nThe next step is to figure out how we learn after the end of an episode (i.e. when we or our opponent miss the ball and someone gets a point). We do this by computing the policy gradient of the network at the end of each episode. The intuition here is that if we won the round, we\\u2019d like our network to generate more of the actions that led to us winning. Alternatively, if we lose, we\\u2019re going to try and generate less of these actions.\\nOpenAI Gym provides us the handy done variable to tell us when an episode finishes (i.e. we missed the ball or our opponent missed the ball). When we notice we are done, the first thing we do is compile all our observations and gradient calculations for the episode. This allows us to apply our learnings over all the actions in the episode.\\nNext, we want to learn in such a way that actions taken towards the end of an episode more heavily influence our learning than actions taken at the beginning. This is called discounting.\\nThink about it this way - if you moved up at the first frame of the episode, it probably had very little impact on whether or not you win. However, closer to the end of the episode, your actions probably have a much larger effect as they determine whether or not your paddle reaches the ball and how your paddle hits the ball.\\nWe\\u2019re going to take this weighting into account by discounting our rewards such that rewards from earlier frames are discounted a lot more than rewards for later frames. After this, we\\u2019re going to finally use backpropagation to compute the gradient (i.e. the direction we need to move our weights to improve).\\nLet\\u2019s dig in a bit into how the policy gradient for the episode is computed. This is one of the most important parts of Reinforcement Learning as it\\u2019s how our agent figures out how to improve over time.\\nTo begin with, if you haven\\u2019t already, read this excerpt on backpropagation from Michael Nielsen\\u2019s excellent free book on Deep Learning.\\nAs you\\u2019ll see in that excerpt, there are four fundamental equations of backpropogation, a technique for computing the gradient for our weights.\\nOur goal is to find \\u2202C/\\u2202w1 (BP4), the derivative of the cost function with respect to the first layer\\u2019s weights, and \\u2202C/\\u2202w2, the derivative of the cost function with respect to the second layer\\u2019s weights. These gradients will help us understand what direction to move our weights in for the greatest improvement.\\nTo begin with, let\\u2019s start with \\u2202C/\\u2202w2. If a^l2 is the activations of the hidden layer (layer 2), we see that the formula is:\\nIndeed, this is exactly what we do here:\\nNext, we need to calculate \\u2202C/\\u2202w1. The formula for that is:\\nand we also know that a^l1 is just our observation_values.\\nSo all we need now is \\u03b4^l2. Once we have that, we can calculate \\u2202C/\\u2202w1 and return. We do just that below:\\nIf you\\u2019ve been following along, your function should look like this:\\nWith that, we\\u2019ve finished backpropagation and computed our gradients!\\nAfter we have finished batch_size episodes, we finally update our weights for our Neural Network and implement our learnings.\\nTo update the weights, we simply apply RMSProp, an algorithm for updating weights described by Sebastian Reuder here.\\nWe implement this below:\\nThis is the step that tweaks our weights and allows us to get better over time.\\nThis is basically it! Putting it altogether it should look like this.\\nYou just coded a full Neural Network for playing Pong! Uncomment env.render() and run it for 3\\u20134 days to see it finally beat the computer! You\\u2019ll need to do some pickling as done in Andrej Karpathy\\u2019s solution to be able to visualize your results when you win.\\nAccording to the blog post, this algorithm should take around 3 days of training on a Macbook to start beating the computer.\\nConsider tweaking the parameters or using Convolutional Neural Nets to boost the performance further.\\nIf you want a further primer into Neural Networks and Reinforcement Learning, there are some great resources to learn more (I work at Udacity as the Director of Machine Learning programs):\\nFrom a quick cheer to a standing ovation, clap to show how much you enjoyed this story.\\n@dhruvp. VP Eng @Athelas. MIT Math and CS Undergrad \\u201913. MIT CS Masters \\u201914. Previously: Director of AI Programs @ Udacity.\\n\",\n          \"For a recent hackathon that we did at STATWORX, some of our team members scraped minutely S&P 500 data from the Google Finance API. The data consisted of index as well as stock prices of the S&P\\u2019s 500 constituents. Having this data at hand, the idea of developing a deep learning model for predicting the S&P 500 index based on the 500 constituents prices one minute ago came immediately on my mind.\\nPlaying around with the data and building the deep learning model with TensorFlow was fun and so I decided to write my first Medium.com story: a little TensorFlow tutorial on predicting S&P 500 stock prices. What you will read is not an in-depth tutorial, but more a high-level introduction to the important building blocks and concepts of TensorFlow models. The Python code I\\u2019ve created is not optimized for efficiency but understandability. The dataset I\\u2019ve used can be downloaded from here (40MB).\\nOur team exported the scraped stock data from our scraping server as a csv file. The dataset contains n = 41266 minutes of data ranging from April to August 2017 on 500 stocks as well as the total S&P 500 index price. Index and stocks are arranged in wide format.\\nThe data was already cleaned and prepared, meaning missing stock and index prices were LOCF\\u2019ed (last observation carried forward), so that the file did not contain any missing values.\\nA quick look at the S&P time series using pyplot.plot(data['SP500']):\\nNote: This is actually the lead of the S&P 500 index, meaning, its value is shifted 1 minute into the future. This operation is necessary since we want to predict the next minute of the index and not the current minute.\\nThe dataset was split into training and test data. The training data contained 80% of the total dataset. The data was not shuffled but sequentially sliced. The training data ranges from April to approx. end of July 2017, the test data ends end of August 2017.\\nThere are a lot of different approaches to time series cross validation, such as rolling forecasts with and without refitting or more elaborate concepts such as time series bootstrap resampling. The latter involves repeated samples from the remainder of the seasonal decomposition of the time series in order to simulate samples that follow the same seasonal pattern as the original time series but are not exact copies of its values.\\nMost neural network architectures benefit from scaling the inputs (sometimes also the output). Why? Because most common activation functions of the network\\u2019s neurons such as tanh or sigmoid are defined on the [-1, 1] or [0, 1] interval respectively. Nowadays, rectified linear unit (ReLU) activations are commonly used activations which are unbounded on the axis of possible activation values. However, we will scale both the inputs and targets anyway. Scaling can be easily accomplished in Python using sklearn\\u2019s MinMaxScaler.\\nRemark: Caution must be undertaken regarding what part of the data is scaled and when. A common mistake is to scale the whole dataset before training and test split are being applied. Why is this a mistake? Because scaling invokes the calculation of statistics e.g. the min/max of a variable. When performing time series forecasting in real life, you do not have information from future observations at the time of forecasting. Therefore, calculation of scaling statistics has to be conducted on training data and must then be applied to the test data. Otherwise, you use future information at the time of forecasting which commonly biases forecasting metrics in a positive direction.\\nTensorFlow is a great piece of software and currently the leading deep learning and neural network computation framework. It is based on a C++ low level backend but is usually controlled via Python (there is also a neat TensorFlow library for R, maintained by RStudio). TensorFlow operates on a graph representation of the underlying computational task. This approach allows the user to specify mathematical operations as elements in a graph of data, variables and operators. Since neural networks are actually graphs of data and mathematical operations, TensorFlow is just perfect for neural networks and deep learning. Check out this simple example (stolen from our deep learning introduction from our blog):\\nIn the figure above, two numbers are supposed to be added. Those numbers are stored in two variables, a and b. The two values are flowing through the graph and arrive at the square node, where they are being added. The result of the addition is stored into another variable, c. Actually, a, b and c can be considered as placeholders. Any numbers that are fed into a and b get added and are stored into c. This is exactly how TensorFlow works. The user defines an abstract representation of the model (neural network) through placeholders and variables. Afterwards, the placeholders get \\\"filled\\\" with real data and the actual computations take place. The following code implements the toy example from above in TensorFlow:\\nAfter having imported the TensorFlow library, two placeholders are defined using tf.placeholder(). They correspond to the two blue circles on the left of the image above. Afterwards, the mathematical addition is defined via tf.add(). The result of the computation is c = 9. With placeholders set up, the graph can be executed with any integer value for a and b. Of course, the former problem is just a toy example. The required graphs and computations in a neural network are much more complex.\\nAs mentioned before, it all starts with placeholders. We need two placeholders in order to fit our model: X contains the network's inputs (the stock prices of all S&P 500 constituents at time T = t) and Y the network's outputs (the index value of the S&P 500 at time T = t + 1).\\nThe shape of the placeholders correspond to [None, n_stocks] with [None] meaning that the inputs are a 2-dimensional matrix and the outputs are a 1-dimensional vector. It is crucial to understand which input and output dimensions the neural net needs in order to design it properly.\\nThe None argument indicates that at this point we do not yet know the number of observations that flow through the neural net graph in each batch, so we keep if flexible. We will later define the variable batch_size that controls the number of observations per training batch.\\nBesides placeholders, variables are another cornerstone of the TensorFlow universe. While placeholders are used to store input and target data in the graph, variables are used as flexible containers within the graph that are allowed to change during graph execution. Weights and biases are represented as variables in order to adapt during training. Variables need to be initialized, prior to model training. We will get into that a litte later in more detail.\\nThe model consists of four hidden layers. The first layer contains 1024 neurons, slightly more than double the size of the inputs. Subsequent hidden layers are always half the size of the previous layer, which means 512, 256 and finally 128 neurons. A reduction of the number of neurons for each subsequent layer compresses the information the network identifies in the previous layers. Of course, other network architectures and neuron configurations are possible but are out of scope for this introduction level article.\\nIt is important to understand the required variable dimensions between input, hidden and output layers. As a rule of thumb in multilayer perceptrons (MLPs, the type of networks used here), the second dimension of the previous layer is the first dimension in the current layer for weight matrices. This might sound complicated but is essentially just each layer passing its output as input to the next layer. The biases dimension equals the second dimension of the current layer\\u2019s weight matrix, which corresponds the number of neurons in this layer.\\nAfter definition of the required weight and bias variables, the network topology, the architecture of the network, needs to be specified. Hereby, placeholders (data) and variables (weighs and biases) need to be combined into a system of sequential matrix multiplications.\\nFurthermore, the hidden layers of the network are transformed by activation functions. Activation functions are important elements of the network architecture since they introduce non-linearity to the system. There are dozens of possible activation functions out there, one of the most common is the rectified linear unit (ReLU) which will also be used in this model.\\nThe image below illustrates the network architecture. The model consists of three major building blocks. The input layer, the hidden layers and the output layer. This architecture is called a feedforward network. Feedforward indicates that the batch of data solely flows from left to right. Other network architectures, such as recurrent neural networks, also allow data flowing \\u201cbackwards\\u201d in the network.\\nThe cost function of the network is used to generate a measure of deviation between the network\\u2019s predictions and the actual observed training targets. For regression problems, the mean squared error (MSE) function is commonly used. MSE computes the average squared deviation between predictions and targets. Basically, any differentiable function can be implemented in order to compute a deviation measure between predictions and targets.\\nHowever, the MSE exhibits certain properties that are advantageous for the general optimization problem to be solved.\\nThe optimizer takes care of the necessary computations that are used to adapt the network\\u2019s weight and bias variables during training. Those computations invoke the calculation of so called gradients, that indicate the direction in which the weights and biases have to be changed during training in order to minimize the network\\u2019s cost function. The development of stable and speedy optimizers is a major field in neural network an deep learning research.\\nHere the Adam Optimizer is used, which is one of the current default optimizers in deep learning development. Adam stands for \\u201cAdaptive Moment Estimation\\u201d and can be considered as a combination between two other popular optimizers AdaGrad and RMSProp.\\nInitializers are used to initialize the network\\u2019s variables before training. Since neural networks are trained using numerical optimization techniques, the starting point of the optimization problem is one the key factors to find good solutions to the underlying problem. There are different initializers available in TensorFlow, each with different initialization approaches. Here, I use the tf.variance_scaling_initializer(), which is one of the default initialization strategies.\\nNote, that with TensorFlow it is possible to define multiple initialization functions for different variables within the graph. However, in most cases, a unified initialization is sufficient.\\nAfter having defined the placeholders, variables, initializers, cost functions and optimizers of the network, the model needs to be trained. Usually, this is done by minibatch training. During minibatch training random data samples of n = batch_size are drawn from the training data and fed into the network. The training dataset gets divided into n / batch_size batches that are sequentially fed into the network. At this point the placeholders X and Y come into play. They store the input and target data and present them to the network as inputs and targets.\\nA sampled data batch of X flows through the network until it reaches the output layer. There, TensorFlow compares the models predictions against the actual observed targets Y in the current batch. Afterwards, TensorFlow conducts an optimization step and updates the networks parameters, corresponding to the selected learning scheme. After having updated the weights and biases, the next batch is sampled and the process repeats itself. The procedure continues until all batches have been presented to the network. One full sweep over all batches is called an epoch.\\nThe training of the network stops once the maximum number of epochs is reached or another stopping criterion defined by the user applies.\\nDuring the training, we evaluate the networks predictions on the test set \\u2014 the data which is not learned, but set aside \\u2014 for every 5th batch and visualize it. Additionally, the images are exported to disk and later combined into a video animation of the training process (see below). The model quickly learns the shape und location of the time series in the test data and is able to produce an accurate prediction after some epochs. Nice!\\nOne can see that the networks rapidly adapts to the basic shape of the time series and continues to learn finer patterns of the data. This also corresponds to the Adam learning scheme that lowers the learning rate during model training in order not to overshoot the optimization minimum. After 10 epochs, we have a pretty close fit to the test data! The final test MSE equals 0.00078 (it is very low, because the target is scaled). The mean absolute percentage error of the forecast on the test set is equal to 5.31% which is pretty good. Note, that this is just a fit to the test data, no actual out of sample metrics in a real world scenario.\\nPlease note that there are tons of ways of further improving this result: design of layers and neurons, choosing different initialization and activation schemes, introduction of dropout layers of neurons, early stopping and so on. Furthermore, different types of deep learning models, such as recurrent neural networks might achieve better performance on this task. However, this is not the scope of this introductory post.\\nThe release of TensorFlow was a landmark event in deep learning research. Its flexibility and performance allows researchers to develop all kinds of sophisticated neural network architectures as well as other ML algorithms. However, flexibility comes at the cost of longer time-to-model cycles compared to higher level APIs such as Keras or MxNet. Nonetheless, I am sure that TensorFlow will make its way to the de-facto standard in neural network and deep learning development in research and practical applications. Many of our customers are already using TensorFlow or start developing projects that employ TensorFlow models. Also our data science consultants at STATWORX are heavily using TensorFlow for deep learning and neural net research and development. Let\\u2019s see what Google has planned for the future of TensorFlow. One thing that is missing, at least in my opinion, is a neat graphical user interface for designing and developing neural net architectures with TensorFlow backend. Maybe, this is something Google is already working on ;)\\nIf you have any comments or questions on my first Medium story, feel free to comment below! I will try to answer them. Also, feel free to use my code or share this story with your peers on social platforms of your choice.\\nUpdate: I\\u2019ve added both the Python script as well as a (zipped) dataset to a Github repository. Feel free to clone and fork.\\nLastly, follow me on: Twitter | LinkedIn\\nFrom a quick cheer to a standing ovation, clap to show how much you enjoyed this story.\\nCEO @ STATWORX. Doing data science, stats and ML for over a decade. Food, wine and cocktail enthusiast. Check our website: https://www.statworx.com\\nHighlights from Machine Learning Research, Projects and Learning Materials. From and For ML Scientists, Engineers an Enthusiasts.\\n\",\n          \"Over the past 8 months, I\\u2019ve been interviewing at various companies like Google\\u2019s DeepMind, Wadhwani Institute of AI, Microsoft, Ola, Fractal Analytics, and a few others primarily for the roles \\u2014 Data Scientist, Software Engineer & Research Engineer. In the process, not only did I get an opportunity to interact with many great minds, but also had a peek at myself along with a sense of what people really look for when interviewing someone. I believe that if I\\u2019d had this knowledge before, I could have avoided many mistakes and have prepared in a much better manner, which is what the motivation behind this post is, to be able to help someone bag their dream place of work.\\nThis post arose from a discussion with one of my juniors on the lack of really fulfilling job opportunities offered through campus placements for people working in AI. Also, when I was preparing, I noticed people using a lot of resources but as per my experience over the past months, I realised that one can do away with a few minimal ones for most roles in AI, all of which I\\u2019m going to mention at the end of the post. I begin with How to get noticed a.k.a. the interview. Then I provide a List of companies and start-ups to apply, which is followed by How to ace that interview. Based on whatever experience I\\u2019ve had, I add a section on What we should strive to work for. I conclude with Minimal Resources you need for preparation.\\nNOTE: For people who are sitting for campus placements, there are two things I\\u2019d like to add. Firstly, most of what I\\u2019m going to say (except for the last one maybe) is not going to be relevant to you for placements. But, and this is my second point, as I mentioned before, opportunities on campus are mostly in software engineering roles having no intersection with AI. So, this post is specifically meant for people who want to work on solving interesting problems using AI. Also, I want to add that I haven\\u2019t cleared all of these interviews but I guess that\\u2019s the essence of failure \\u2014 it\\u2019s the greatest teacher! The things that I mention here may not all be useful but these are things that I did and there\\u2019s no way for me to know what might have ended up making my case stronger.\\nTo be honest, this step is the most important one. What makes off-campus placements so tough and exhausting is getting the recruiter to actually go through your profile among the plethora of applications that they get. Having a contact inside the organisation place a referral for you would make it quite easy, but, in general, this part can be sub-divided into three keys steps:\\na) Do the regulatory preparation and do that well: So, with regulatory preparation, I mean \\u2014a LinkedIn profile, a Github profile, a portfolio website and a well-polished CV. Firstly, your CV should be really neat and concise. Follow this guide by Udacity for cleaning up your CV \\u2014 Resume Revamp. It has everything that I intend to say and I\\u2019ve been using it as a reference guide myself. As for the CV template, some of the in-built formats on Overleaf are quite nice. I personally use deedy-resume. Here\\u2019s a preview:\\nAs it can be seen, a lot of content can be fit into one page. However, if you really do need more than that, then the format linked above would not work directly. Instead, you can find a modified multi-page format of the same here. The next most important thing to mention is your Github profile. A lot of people underestimate the potential of this, just because unlike LinkedIn, it doesn\\u2019t have a \\u201cWho Viewed Your Profile\\u201d option. People DO go through your Github because that\\u2019s the only way they have to validate what you have mentioned in your CV, given that there\\u2019s a lot of noise today with people associating all kinds of buzzwords with their profile. Especially for data science, open-source has a big role to play too with majority of the tools, implementations of various algorithms, lists of learning resources, all being open-sourced. I discuss the benefits of getting involved in Open-Source and how one can start from scratch in an earlier post here. The bare minimum for now should be:\\n\\u2022 Create a Github account if you don\\u2019t already have one.\\u2022 Create a repository for each of the projects that you have done.\\u2022 Add documentation with clear instructions on how to run the code\\u2022 Add documentation for each file mentioning the role of each function, the meaning of each parameter, proper formatting (e.g. PEP8 for Python) along with a script to automate the previous step (Optional).\\nMoving on, the third step is what most people lack, which is having a portfolio website demonstrating their experience and personal projects. Making a portfolio indicates that you are really serious about getting into the field and adds a lot of points to the authenticity factor. Also, you generally have space constraints on your CV and tend to miss out on a lot of details. You can use your portfolio to really delve deep into the details if you want to and it\\u2019s highly recommended to include some sort of visualisation or demonstration of the project/idea. It\\u2019s really easy to create one too as there are a lot of free platforms with drag-and-drop features making the process really painless. I personally use Weebly which is a widely used tool. It\\u2019s better to have a reference to begin with. There are a lot of awesome ones out there but I referred to Deshraj Yadav\\u2019s personal website to begin with making mine:\\nFinally, a lot of recruiters and start-ups have nowadays started using LinkedIn as their go-to platform for hiring. A lot of good jobs get posted there. Apart from recruiters, the people working at influential positions are quite active there as well. So, if you can grab their attention, you have a good chance of getting in too. Apart from that, maintaining a clean profile is necessary for people to have the will to connect with you. An important part of LinkedIn is their search tool and for you to show up, you must have the relevant keywords interspersed over your profile. It took me a lot of iterations and re-evaluations to finally have a decent one. Also, you should definitely ask people with or under whom you\\u2019ve worked with to endorse you for your skills and add a recommendation talking about their experience of working with you. All of this increases your chance of actually getting noticed. I\\u2019ll again point towards Udacity\\u2019s guide for LinkedIn and Github profiles.\\nAll this might seem like a lot, but remember that you don\\u2019t need to do it in a single day or even a week or a month. It\\u2019s a process, it never ends. Setting up everything at first would definitely take some effort but once it\\u2019s there and you keep updating it regularly as events around you keep happening, you\\u2019ll not only find it to be quite easy, but also you\\u2019ll be able to talk about yourself anywhere anytime without having to explicitly prepare for it because you become so aware about yourself.\\nb) Stay authentic: I\\u2019ve seen a lot of people do this mistake of presenting themselves as per different job profiles. According to me, it\\u2019s always better to first decide what actually interests you, what would you be happy doing and then search for relevant opportunities; not the other way round. The fact that the demand for AI talent surpasses the supply for the same gives you this opportunity. Spending time on your regulatory preparation mentioned above would give you an all-around perspective on yourself and help make this decision easier. Also, you won\\u2019t need to prepare answers to various kinds of questions that you get asked during an interview. Most of them would come out naturally as you\\u2019d be talking about something you really care about.\\nc) Networking: Once you\\u2019re done with a), figured out b), Networking is what will actually help you get there. If you don\\u2019t talk to people, you miss out on hearing about many opportunities that you might have a good shot at. It\\u2019s important to keep connecting with new people each day, if not physically, then on LinkedIn, so that upon compounding it after many days, you have a large and strong network. Networking is NOT messaging people to place a referral for you. When I was starting off, I did this mistake way too often until I stumbled upon this excellent article by Mark Meloon, where he talks about the importance of building a real connection with people by offering our help first. Another important step in networking is to get your content out. For example, if you\\u2019re good at something, blog about it and share that blog on Facebook and LinkedIn. Not only does this help others, it helps you as well. Once you have a good enough network, your visibility increases multi-fold. You never know how one person from your network liking or commenting on your posts, may help you reach out to a much broader audience including people who might be looking for someone of your expertise.\\nI\\u2019m presenting this list in alphabetical order to avoid the misinterpretation of any specific preference. However, I do place a \\u201c*\\u201d on the ones that I\\u2019d personally recommend. This recommendation is based on either of the following: mission statement, people, personal interaction or scope of learning. More than 1 \\u201c*\\u201d is purely based on the 2nd and 3rd factors.\\nYour interview begins the moment you have entered the room and a lot of things can happen between that moment and the time when you\\u2019re asked to introduce yourself \\u2014 your body language and the fact that you\\u2019re smiling while greeting them plays a big role, especially when you\\u2019re interviewing for a start-up as culture-fit is something that they extremely care about. You need to understand that as much as the interviewer is a stranger to you, you\\u2019re a stranger to him/her too. So, they\\u2019re probably just as nervous as you are.\\nIt\\u2019s important to view the interview as more of a conversation between yourself and the interviewer. Both of you are looking for a mutual fit \\u2014 you are looking for an awesome place to work at and the interviewer is looking for an awesome person (like you) to work with. So, make sure that you\\u2019re feeling good about yourself and that you take the charge of making the initial moments of your conversation pleasant for them. And the easiest way I know how to make that happen is to smile.\\nThere are mostly two types of interviews \\u2014 one, where the interviewer has come with come prepared set of questions and is going to just ask you just that irrespective of your profile and the second, where the interview is based on your CV. I\\u2019ll start with the second one.\\nThis kind of interview generally begins with a \\u201cCan you tell me a bit about yourself?\\u201d. At this point, 2 things are a big NO \\u2014 talking about your GPA in college and talking about your projects in detail. An ideal statement should be about a minute or two long, should give a good idea on what have you been doing till now, and it\\u2019s not restricted to academics. You can talk about your hobbies like reading books, playing sports, meditation, etc \\u2014 basically, anything that contributes to defining you. The interviewer will then take something that you talk about here as a cue for his next question, and then the technical part of the interview begins. The motive of this kind of interview is to really check whether whatever you have written on your CV is true or not:\\nThere would be a lot of questions on what could be done differently or if \\u201cX\\u201d was used instead of \\u201cY\\u201d, what would have happened. At this point, it\\u2019s important to know the kind of trade-offs that is usually made during implementation, for e.g. if the interviewer says that using a more complex model would have given better results, then you might say that you actually had less data to work with and that would have lead to overfitting. In one of the interviews, I was given a case-study to work on and it involved designing algorithms for a real-world use case. I\\u2019ve noticed that once I\\u2019ve been given the green flag to talk about a project, the interviewers really like it when I talk about it in the following flow:\\nProblem > 1 or 2 previous approaches > Our approach > Result > Intuition\\nThe other kind of interview is really just to test your basic knowledge. Don\\u2019t expect those questions to be too hard. But they would definitely scratch every bit of the basics that you should be having, mainly based around Linear Algebra, Probability, Statistics, Optimisation, Machine Learning and/or Deep Learning. The resources mentioned in the Minimal Resources you need for preparation section should suffice, but make sure that you don\\u2019t miss out one bit among them. The catch here is the amount of time you take to answer those questions. Since these cover the basics, they expect that you should be answering them almost instantly. So, do your preparation accordingly.\\nThroughout the process, it\\u2019s important to be confident and honest about what you know and what you don\\u2019t know. If there\\u2019s a question that you\\u2019re certain you have no idea about, say it upfront rather than making \\u201cAah\\u201d, \\u201cUm\\u201d sounds. If some concept is really important but you are struggling with answering it, the interviewer would generally (depending on how you did in the initial parts) be happy to give you a hint or guide you towards the right solution. It\\u2019s a big plus if you manage to pick their hints and arrive at the correct solution. Try to not get nervous and the best way to avoid that is by, again, smiling.\\nNow we come to the conclusion of the interview where the interviewer would ask you if you have any questions for them. It\\u2019s really easy to think that your interview is done and just say that you have nothing to ask. I know many people who got rejected just because of failing at this last question. As I mentioned before, it\\u2019s not only you who is being interviewed. You are also looking for a mutual fit with the company itself. So, it\\u2019s quite obvious that if you really want to join a place, you must have many questions regarding the work culture there or what kind of role are they seeing you in. It can be as simple as being curious about the person interviewing you. There\\u2019s always something to learn from everything around you and you should make sure that you leave the interviewer with the impression that you\\u2019re truly interested in being a part of their team. A final question that I\\u2019ve started asking all my interviewers, is for a feedback on what they might want me to improve on. This has helped me tremendously and I still remember every feedback that I\\u2019ve gotten which I\\u2019ve incorporated into my daily life.\\nThat\\u2019s it. Based on my experience, if you\\u2019re just honest about yourself, are competent, truly care about the company you\\u2019re interviewing for and have the right mindset, you should have ticked all the right boxes and should be getting a congratulatory mail soon \\ud83d\\ude04\\nWe live in an era full of opportunities and that applies to anything that you love. You just need to strive to become the best at it and you will find a way to monetise it. As Gary Vaynerchuk (just follow him already) says:\\nThis is a great time to be working in AI and if you\\u2019re truly passionate about it, you have so much that you can do with AI. You can empower so many people that have always been under-represented. We keep nagging about the problems surrounding us, but there\\u2019s been never such a time where common people like us can actually do something about those problems, rather than just complaining. Jeffrey Hammerbacher (Founder, Cloudera) had famously said:\\nWe can do so much with AI than we can ever imagine. There are many extremely challenging problems out there which require incredibly smart people like you to put your head down on and solve. You can make many lives better. Time to let go of what is \\u201ccool\\u201d, or what would \\u201clook good\\u201d. THINK and CHOOSE wisely.\\nAny Data Science interview comprises of questions mostly of a subset of the following four categories: Computer Science, Math, Statistics and Machine Learning.\\nIf you\\u2019re not familiar with the math behind Deep Learning, then you should consider going over my last post for resources to understand them. However, if you are comfortable, I\\u2019ve found that the chapters 2, 3 and 4 of the Deep Learning Book are enough to prepare/revise for theoretical questions during such interviews. I\\u2019ve been preparing summaries for a few chapters which you can refer to where I\\u2019ve tried to even explain a few concepts that I found challenging to understand at first, in case you are not willing to go through the entire chapters. And if you\\u2019ve already done a course on probability, you should be comfortable answering a few numerical as well. For stats, covering these topics should be enough.\\nNow, the range of questions here can vary depending on the type of position you are applying for. If it\\u2019s a more traditional Machine Learning based interview where they want to check your basic knowledge in ML, you can complete any one of the following courses:- Machine Learning by Andrew Ng \\u2014 CS 229- Machine Learning course by Caltech Professor Yaser Abu-Mostafa\\nImportant topics are: Supervised Learning (Classification, Regression, SVM, Decision Tree, Random Forests, Logistic Regression, Multi-layer Perceptron, Parameter Estimation, Bayes\\u2019 Decision Rule), Unsupervised Learning (K-means Clustering, Gaussian Mixture Models), Dimensionality Reduction (PCA).\\nNow, if you\\u2019re applying for a more advanced position, there\\u2019s a high chance that you might be questioned on Deep Learning. In that case, you should be very comfortable with Convolutional Neural Networks (CNNs) and/or (depending upon what you\\u2019ve worked on) Recurrent Neural Networks (RNNs) and their variants. And by being comfortable, you must know what is the fundamental idea behind Deep Learning, how CNNs/RNNs actually worked, what kind of architectures have been proposed and what has been the motivation behind those architectural changes. Now, there\\u2019s no shortcut for this. Either you understand them or you put enough time to understand them. For CNNs, the recommended resource is Stanford\\u2019s CS 231N and CS 224N for RNNs. I found this Neural Network class by Hugo Larochelle to be really enlightening too. Refer this for a quick refresher too. Udacity coming to the aid here too. By now, you should have figured out that Udacity is a really important place for an ML practitioner. There are not a lot of places working on Reinforcement Learning (RL) in India and I too am not experienced in RL as of now. So, that\\u2019s one thing to add to this post sometime in the future.\\nGetting placed off-campus is a long journey of self-realisation. I realise that this has been another long post and I\\u2019m again extremely grateful to you for valuing my thoughts. I hope that this post finds a way of being useful to you and that it helped you in some way to prepare for your next Data Science interview better. If it did, I request you to really think about what I talk about in What we should strive to work for.\\nI\\u2019m very thankful to my friends from IIT Guwahati for their helpful feedback, especially Ameya Godbole, Kothapalli Vignesh and Prabal Jain. A majority of what I mention here, like \\u201cviewing an interview as a conversation\\u201d and \\u201cseeking feedback from our interviewers\\u201d, arose from multiple discussions with Prabal who has been advising me constantly on how I can improve my interviewing skills.\\nThis story is published in Noteworthy, where thousands come every day to learn about the people & ideas shaping the products we love.\\nFollow our publication to see more product & design stories featured by the Journal team.\\nFrom a quick cheer to a standing ovation, clap to show how much you enjoyed this story.\\nAI Fanatic \\u2022 Math Lover \\u2022 Dreamer\\nThe official Journal blog\\n\"\n        ],\n        \"semantic_type\": \"\",\n        \"description\": \"\"\n      }\n    }\n  ]\n}"
            }
          },
          "metadata": {},
          "execution_count": 14
        }
      ]
    },
    {
      "cell_type": "code",
      "source": [
        "# Function to convert 'claps' from string to numeric\n",
        "def convert_claps(value):\n",
        "    if isinstance(value, str):\n",
        "        if 'K' in value:\n",
        "            return float(value.replace('K', '').replace(',', '').strip()) * 1000\n",
        "        return float(value.replace(',', '').strip())\n",
        "    return value\n",
        "\n",
        "# Convert the 'claps' column to numeric\n",
        "df['claps'] = df['claps'].apply(convert_claps)\n",
        "\n",
        "# Fill NaN values with the mean of the column\n",
        "df['claps'] = df['claps'].fillna(df['claps'].mean())\n",
        "\n",
        "# Function to classify claps\n",
        "def classify_claps(claps):\n",
        "    if claps < 1000:\n",
        "        return \"Low\"\n",
        "    elif 1000 <= claps < 2000:\n",
        "        return \"Medium\"\n",
        "    else:\n",
        "        return \"High\"\n",
        "\n"
      ],
      "metadata": {
        "id": "p265wMZrTZe9"
      },
      "execution_count": 15,
      "outputs": []
    },
    {
      "cell_type": "code",
      "source": [
        "# Apply classification\n",
        "df['claps_category'] = df['claps'].apply(classify_claps)\n",
        "\n",
        "# Print the claps category distribution\n",
        "print(\"\\nClaps Category Distribution:\\n\", df['claps_category'].value_counts())"
      ],
      "metadata": {
        "colab": {
          "base_uri": "https://localhost:8080/"
        },
        "id": "cL8nhuHZTfaE",
        "outputId": "df9ccd2b-24c8-46ae-aa3c-846047a2dee1"
      },
      "execution_count": 16,
      "outputs": [
        {
          "output_type": "stream",
          "name": "stdout",
          "text": [
            "\n",
            "Claps Category Distribution:\n",
            " claps_category\n",
            "High      172\n",
            "Low       141\n",
            "Medium     24\n",
            "Name: count, dtype: int64\n"
          ]
        }
      ]
    },
    {
      "cell_type": "code",
      "source": [
        "import matplotlib.pyplot as plt\n",
        "import seaborn as sns\n",
        "\n",
        "# Optionally, visualize the claps category distribution with a bar plot\n",
        "plt.figure(figsize=(8, 6))\n",
        "sns.countplot(data=df, hue='claps_category', palette='viridis', x='claps_category', legend=False)\n",
        "plt.title('Claps Category Distribution')\n",
        "plt.xlabel('Claps Category')\n",
        "plt.ylabel('Count')\n",
        "plt.show()\n"
      ],
      "metadata": {
        "colab": {
          "base_uri": "https://localhost:8080/",
          "height": 564
        },
        "id": "2Lfu9zJBTlW9",
        "outputId": "5cf14c7f-f34e-4ff4-ecd2-e237da73f065"
      },
      "execution_count": 17,
      "outputs": [
        {
          "output_type": "display_data",
          "data": {
            "text/plain": [
              "<Figure size 800x600 with 1 Axes>"
            ],
            "image/png": "[encoded data removed]"
          },
          "metadata": {}
        }
      ]
    },
    {
      "cell_type": "code",
      "source": [
        "# --- Define Topics ---\n",
        "topics_keywords = {\n",
        "    \"Neural Networks\": [\"network\", \"neural\", \"layer\", \"output\", \"neuron\", \"training\", \"input\", \"weights\", \"function\", \"layers\"],\n",
        "    \"Artificial Intelligence\": [\"ai\", \"intelligence\", \"human\", \"people\", \"technology\", \"artificial\", \"google\", \"humans\", \"computer\"],\n",
        "    \"Reinforcement Learning\": [\"table\", \"action\", \"policy\", \"learning\", \"reward\", \"actions\", \"network\", \"environment\", \"state\", \"rl\"],\n",
        "    \"Machine Learning & Data Science\": [\"learning\", \"data\", \"machine\", \"course\", \"model\", \"ml\", \"science\", \"deep\", \"algorithms\", \"house\"],\n",
        "    \"Computer Vision\": [\"image\", \"model\", \"cnn\", \"images\", \"pi\", \"object\", \"gtx\", \"training\", \"1080\", \"deep\"],\n",
        "}\n"
      ],
      "metadata": {
        "id": "_4-ip1IiTr_f"
      },
      "execution_count": 18,
      "outputs": []
    },
    {
      "cell_type": "code",
      "source": [
        "# Classify topics based on keywords in both title and text\n",
        "def classify_topic(row, keywords):\n",
        "    combined_text = f\"{row['title'].lower()} {row['text'].lower()}\"\n",
        "    for topic, words in keywords.items():\n",
        "        if any(word in combined_text for word in words):\n",
        "            return topic\n",
        "    return \"Other\"\n",
        "\n",
        "df['topic'] = df.apply(lambda row: classify_topic(row, topics_keywords), axis=1)\n",
        "print(\"\\nTopic Distribution:\\n\", df['topic'].value_counts())\n"
      ],
      "metadata": {
        "colab": {
          "base_uri": "https://localhost:8080/"
        },
        "id": "t73lFGZXTyNX",
        "outputId": "8ffe83d8-2a0c-41ca-cb45-538709e14617"
      },
      "execution_count": 19,
      "outputs": [
        {
          "output_type": "stream",
          "name": "stdout",
          "text": [
            "\n",
            "Topic Distribution:\n",
            " topic\n",
            "Neural Networks            306\n",
            "Artificial Intelligence     31\n",
            "Name: count, dtype: int64\n"
          ]
        }
      ]
    },
    {
      "cell_type": "code",
      "source": [
        "import matplotlib.pyplot as plt\n",
        "import seaborn as sns\n",
        "\n",
        "# Optionally, visualize the claps category distribution with a bar plot\n",
        "plt.figure(figsize=(8, 6))\n",
        "sns.countplot(data=df, hue='topic', palette='viridis', x='topic', legend=False)\n",
        "plt.title('Topic Distribution')\n",
        "plt.xlabel('Topic Distribution')\n",
        "plt.ylabel('Count')\n",
        "plt.show()\n"
      ],
      "metadata": {
        "colab": {
          "base_uri": "https://localhost:8080/",
          "height": 564
        },
        "id": "U5rKS-5TT22P",
        "outputId": "a5096fbe-9024-411d-982b-0870536f8534"
      },
      "execution_count": 20,
      "outputs": [
        {
          "output_type": "display_data",
          "data": {
            "text/plain": [
              "<Figure size 800x600 with 1 Axes>"
            ],
            "image/png": "[encoded data removed]"
          },
          "metadata": {}
        }
      ]
    },
    {
      "cell_type": "code",
      "source": [
        "nltk.download('punkt_tab')\n",
        "# --- Text Preprocessing ---\n",
        "stop_words = set(stopwords.words('english'))\n",
        "\n",
        "def preprocess_text(text):\n",
        "    text = text.lower()  # Lowercase\n",
        "    tokens = word_tokenize(text)  # Tokenize\n",
        "    tokens = [word for word in tokens if word.isalpha() and word not in stop_words]  # Remove non-alphabetic and stopwords\n",
        "    return tokens\n",
        "\n",
        "# Apply preprocessing to both text and title for GloVe\n",
        "df['processed_text'] = df['text'].apply(preprocess_text)\n",
        "df['processed_title'] = df['title'].apply(preprocess_text)\n",
        "\n",
        "# --- Combine Processed Text and Title ---\n",
        "# Create a combined tokens column for each row\n",
        "df['combined_processed'] = df.apply(lambda row: row['processed_text'] + row['processed_title'], axis=1)"
      ],
      "metadata": {
        "colab": {
          "base_uri": "https://localhost:8080/"
        },
        "id": "UVdMQ8yyWdMk",
        "outputId": "19dec5ab-04da-4cf0-bc37-bf0f23107d83"
      },
      "execution_count": 21,
      "outputs": [
        {
          "output_type": "stream",
          "name": "stderr",
          "text": [
            "[nltk_data] Downloading package punkt_tab to /root/nltk_data...\n",
            "[nltk_data]   Package punkt_tab is already up-to-date!\n"
          ]
        }
      ]
    },
    {
      "cell_type": "code",
      "source": [
        "# --- Load GloVe Embeddings ---\n",
        "def load_glove_embeddings(file_path):\n",
        "    glove_embeddings = {}\n",
        "    with open(file_path, 'r', encoding='utf-8') as f:\n",
        "        for line in f:\n",
        "            parts = line.split()\n",
        "            word = parts[0]\n",
        "            vector = np.array(parts[1:], dtype=np.float32)\n",
        "            glove_embeddings[word] = vector\n",
        "    return glove_embeddings\n",
        "\n",
        "glove_embeddings = load_glove_embeddings('glove.6B.200d.txt')  # Replace with actual file path\n",
        "\n",
        "# --- Vectorize Text Using GloVe ---\n",
        "def vectorize_text_glove(tokens, glove_model):\n",
        "    vectors = [glove_model[word] for word in tokens if word in glove_model]\n",
        "    return np.mean(vectors, axis=0) if vectors else np.zeros(200)  # Default vector size is 100 for 100d GloVe\n",
        "\n",
        "# Create document vectors using GloVe embeddings\n",
        "df['document_vector_glove'] = df['combined_processed'].apply(lambda x: vectorize_text_glove(x, glove_embeddings))"
      ],
      "metadata": {
        "id": "CedJRQQxWhC5"
      },
      "execution_count": 22,
      "outputs": []
    },
    {
      "cell_type": "code",
      "source": [
        "# --- Train-Test Split ---\n",
        "X = np.vstack(df['document_vector_glove'].values)  # Use the GloVe vectors\n",
        "y_claps = df['claps_category']  # Use claps category for classification"
      ],
      "metadata": {
        "id": "EG4hEf9GWnti"
      },
      "execution_count": 23,
      "outputs": []
    },
    {
      "cell_type": "code",
      "source": [
        "# Encode target labels for claps\n",
        "label_encoder_claps = LabelEncoder()\n",
        "y_encoded_claps = label_encoder_claps.fit_transform(y_claps)"
      ],
      "metadata": {
        "id": "-0WJZWHXWrjQ"
      },
      "execution_count": 24,
      "outputs": []
    },
    {
      "cell_type": "code",
      "source": [
        "# --- Train-Test Split with Stratification ---\n",
        "X_train, X_test, y_train_claps, y_test_claps = train_test_split(\n",
        "    X,\n",
        "    y_encoded_claps,\n",
        "    test_size=0.2,\n",
        "    random_state=42,\n",
        "    stratify=y_encoded_claps  # Stratify by target labels\n",
        ")\n"
      ],
      "metadata": {
        "id": "dFS7Fhe6WwfD"
      },
      "execution_count": 25,
      "outputs": []
    },
    {
      "cell_type": "code",
      "source": [
        "# --- Backward Elimination ---\n",
        "n_features = X_train.shape[1]\n",
        "features_to_keep = list(range(n_features))\n",
        "\n",
        "best_accuracy = 0.0\n",
        "\n",
        "while len(features_to_keep) > 0:\n",
        "    accuracies = []\n",
        "\n",
        "    # Evaluate model without each feature\n",
        "    for feature in features_to_keep:\n",
        "        temp_features = [f for f in features_to_keep if f != feature]\n",
        "        X_train_temp = X_train[:, temp_features]\n",
        "        X_test_temp = X_test[:, temp_features]\n",
        "\n",
        "        # Train and evaluate SVM model\n",
        "        svm_model_temp = SVC(kernel='linear', class_weight='balanced', random_state=42)\n",
        "        svm_model_temp.fit(X_train_temp, y_train_claps)\n",
        "\n",
        "        # Predict and calculate accuracy\n",
        "        temp_predictions = svm_model_temp.predict(X_test_temp)\n",
        "        temp_accuracy = accuracy_score(y_test_claps, temp_predictions)\n",
        "        accuracies.append((feature, temp_accuracy))\n",
        "\n",
        "    # Find the feature with the lowest accuracy when removed\n",
        "    feature_to_remove, lowest_accuracy = min(accuracies, key=lambda x: x[1])\n",
        "\n",
        "    # If the lowest accuracy is better than the best accuracy, keep it\n",
        "    if lowest_accuracy < best_accuracy:\n",
        "        break\n",
        "\n",
        "    # Remove the feature and update the best accuracy\n",
        "    features_to_keep.remove(feature_to_remove)\n",
        "    best_accuracy = lowest_accuracy\n",
        "    print(f\"Removed feature {feature_to_remove}, New Best Accuracy for Claps Categories: {best_accuracy:.4f}\")\n",
        "\n",
        "# Final feature set after backward elimination\n",
        "X_train_final = X_train[:, features_to_keep]\n",
        "X_test_final = X_test[:, features_to_keep]"
      ],
      "metadata": {
        "id": "yRiqOVqPW2U8",
        "colab": {
          "base_uri": "https://localhost:8080/"
        },
        "outputId": "f227a93f-c03d-4660-ff26-62ed3a833387"
      },
      "execution_count": 26,
      "outputs": [
        {
          "output_type": "stream",
          "name": "stdout",
          "text": [
            "Removed feature 4, New Best Accuracy for Claps Categories: 0.5147\n"
          ]
        }
      ]
    },
    {
      "cell_type": "code",
      "source": [
        "# --- Train the SVM model after backward elimination ---\n",
        "svm_model = SVC(kernel='linear', class_weight='balanced', random_state=42)\n",
        "svm_model.fit(X_train_final, y_train_claps)"
      ],
      "metadata": {
        "id": "I6IRvb39W6wQ",
        "colab": {
          "base_uri": "https://localhost:8080/",
          "height": 80
        },
        "outputId": "73a8c575-90ab-412f-e55f-bc16d55c4799"
      },
      "execution_count": 27,
      "outputs": [
        {
          "output_type": "execute_result",
          "data": {
            "text/plain": [
              "SVC(class_weight='balanced', kernel='linear', random_state=42)"
            ],
            "text/html": [
              "<style>#sk-container-id-1 {\n",
              "  /* Definition of color scheme common for light and dark mode */\n",
              "  --sklearn-color-text: #000;\n",
              "  --sklearn-color-text-muted: #666;\n",
              "  --sklearn-color-line: gray;\n",
              "  /* Definition of color scheme for unfitted estimators */\n",
              "  --sklearn-color-unfitted-level-0: #fff5e6;\n",
              "  --sklearn-color-unfitted-level-1: #f6e4d2;\n",
              "  --sklearn-color-unfitted-level-2: #ffe0b3;\n",
              "  --sklearn-color-unfitted-level-3: chocolate;\n",
              "  /* Definition of color scheme for fitted estimators */\n",
              "  --sklearn-color-fitted-level-0: #f0f8ff;\n",
              "  --sklearn-color-fitted-level-1: #d4ebff;\n",
              "  --sklearn-color-fitted-level-2: #b3dbfd;\n",
              "  --sklearn-color-fitted-level-3: cornflowerblue;\n",
              "\n",
              "  /* Specific color for light theme */\n",
              "  --sklearn-color-text-on-default-background: var(--sg-text-color, var(--theme-code-foreground, var(--jp-content-font-color1, black)));\n",
              "  --sklearn-color-background: var(--sg-background-color, var(--theme-background, var(--jp-layout-color0, white)));\n",
              "  --sklearn-color-border-box: var(--sg-text-color, var(--theme-code-foreground, var(--jp-content-font-color1, black)));\n",
              "  --sklearn-color-icon: #696969;\n",
              "\n",
              "  @media (prefers-color-scheme: dark) {\n",
              "    /* Redefinition of color scheme for dark theme */\n",
              "    --sklearn-color-text-on-default-background: var(--sg-text-color, var(--theme-code-foreground, var(--jp-content-font-color1, white)));\n",
              "    --sklearn-color-background: var(--sg-background-color, var(--theme-background, var(--jp-layout-color0, #111)));\n",
              "    --sklearn-color-border-box: var(--sg-text-color, var(--theme-code-foreground, var(--jp-content-font-color1, white)));\n",
              "    --sklearn-color-icon: #878787;\n",
              "  }\n",
              "}\n",
              "\n",
              "#sk-container-id-1 {\n",
              "  color: var(--sklearn-color-text);\n",
              "}\n",
              "\n",
              "#sk-container-id-1 pre {\n",
              "  padding: 0;\n",
              "}\n",
              "\n",
              "#sk-container-id-1 input.sk-hidden--visually {\n",
              "  border: 0;\n",
              "  clip: rect(1px 1px 1px 1px);\n",
              "  clip: rect(1px, 1px, 1px, 1px);\n",
              "  height: 1px;\n",
              "  margin: -1px;\n",
              "  overflow: hidden;\n",
              "  padding: 0;\n",
              "  position: absolute;\n",
              "  width: 1px;\n",
              "}\n",
              "\n",
              "#sk-container-id-1 div.sk-dashed-wrapped {\n",
              "  border: 1px dashed var(--sklearn-color-line);\n",
              "  margin: 0 0.4em 0.5em 0.4em;\n",
              "  box-sizing: border-box;\n",
              "  padding-bottom: 0.4em;\n",
              "  background-color: var(--sklearn-color-background);\n",
              "}\n",
              "\n",
              "#sk-container-id-1 div.sk-container {\n",
              "  /* jupyter's `normalize.less` sets `[hidden] { display: none; }`\n",
              "     but bootstrap.min.css set `[hidden] { display: none !important; }`\n",
              "     so we also need the `!important` here to be able to override the\n",
              "     default hidden behavior on the sphinx rendered scikit-learn.org.\n",
              "     See: https://github.com/scikit-learn/scikit-learn/issues/21755 */\n",
              "  display: inline-block !important;\n",
              "  position: relative;\n",
              "}\n",
              "\n",
              "#sk-container-id-1 div.sk-text-repr-fallback {\n",
              "  display: none;\n",
              "}\n",
              "\n",
              "div.sk-parallel-item,\n",
              "div.sk-serial,\n",
              "div.sk-item {\n",
              "  /* draw centered vertical line to link estimators */\n",
              "  background-image: linear-gradient(var(--sklearn-color-text-on-default-background), var(--sklearn-color-text-on-default-background));\n",
              "  background-size: 2px 100%;\n",
              "  background-repeat: no-repeat;\n",
              "  background-position: center center;\n",
              "}\n",
              "\n",
              "/* Parallel-specific style estimator block */\n",
              "\n",
              "#sk-container-id-1 div.sk-parallel-item::after {\n",
              "  content: \"\";\n",
              "  width: 100%;\n",
              "  border-bottom: 2px solid var(--sklearn-color-text-on-default-background);\n",
              "  flex-grow: 1;\n",
              "}\n",
              "\n",
              "#sk-container-id-1 div.sk-parallel {\n",
              "  display: flex;\n",
              "  align-items: stretch;\n",
              "  justify-content: center;\n",
              "  background-color: var(--sklearn-color-background);\n",
              "  position: relative;\n",
              "}\n",
              "\n",
              "#sk-container-id-1 div.sk-parallel-item {\n",
              "  display: flex;\n",
              "  flex-direction: column;\n",
              "}\n",
              "\n",
              "#sk-container-id-1 div.sk-parallel-item:first-child::after {\n",
              "  align-self: flex-end;\n",
              "  width: 50%;\n",
              "}\n",
              "\n",
              "#sk-container-id-1 div.sk-parallel-item:last-child::after {\n",
              "  align-self: flex-start;\n",
              "  width: 50%;\n",
              "}\n",
              "\n",
              "#sk-container-id-1 div.sk-parallel-item:only-child::after {\n",
              "  width: 0;\n",
              "}\n",
              "\n",
              "/* Serial-specific style estimator block */\n",
              "\n",
              "#sk-container-id-1 div.sk-serial {\n",
              "  display: flex;\n",
              "  flex-direction: column;\n",
              "  align-items: center;\n",
              "  background-color: var(--sklearn-color-background);\n",
              "  padding-right: 1em;\n",
              "  padding-left: 1em;\n",
              "}\n",
              "\n",
              "\n",
              "/* Toggleable style: style used for estimator/Pipeline/ColumnTransformer box that is\n",
              "clickable and can be expanded/collapsed.\n",
              "- Pipeline and ColumnTransformer use this feature and define the default style\n",
              "- Estimators will overwrite some part of the style using the `sk-estimator` class\n",
              "*/\n",
              "\n",
              "/* Pipeline and ColumnTransformer style (default) */\n",
              "\n",
              "#sk-container-id-1 div.sk-toggleable {\n",
              "  /* Default theme specific background. It is overwritten whether we have a\n",
              "  specific estimator or a Pipeline/ColumnTransformer */\n",
              "  background-color: var(--sklearn-color-background);\n",
              "}\n",
              "\n",
              "/* Toggleable label */\n",
              "#sk-container-id-1 label.sk-toggleable__label {\n",
              "  cursor: pointer;\n",
              "  display: flex;\n",
              "  width: 100%;\n",
              "  margin-bottom: 0;\n",
              "  padding: 0.5em;\n",
              "  box-sizing: border-box;\n",
              "  text-align: center;\n",
              "  align-items: start;\n",
              "  justify-content: space-between;\n",
              "  gap: 0.5em;\n",
              "}\n",
              "\n",
              "#sk-container-id-1 label.sk-toggleable__label .caption {\n",
              "  font-size: 0.6rem;\n",
              "  font-weight: lighter;\n",
              "  color: var(--sklearn-color-text-muted);\n",
              "}\n",
              "\n",
              "#sk-container-id-1 label.sk-toggleable__label-arrow:before {\n",
              "  /* Arrow on the left of the label */\n",
              "  content: \"▸\";\n",
              "  float: left;\n",
              "  margin-right: 0.25em;\n",
              "  color: var(--sklearn-color-icon);\n",
              "}\n",
              "\n",
              "#sk-container-id-1 label.sk-toggleable__label-arrow:hover:before {\n",
              "  color: var(--sklearn-color-text);\n",
              "}\n",
              "\n",
              "/* Toggleable content - dropdown */\n",
              "\n",
              "#sk-container-id-1 div.sk-toggleable__content {\n",
              "  max-height: 0;\n",
              "  max-width: 0;\n",
              "  overflow: hidden;\n",
              "  text-align: left;\n",
              "  /* unfitted */\n",
              "  background-color: var(--sklearn-color-unfitted-level-0);\n",
              "}\n",
              "\n",
              "#sk-container-id-1 div.sk-toggleable__content.fitted {\n",
              "  /* fitted */\n",
              "  background-color: var(--sklearn-color-fitted-level-0);\n",
              "}\n",
              "\n",
              "#sk-container-id-1 div.sk-toggleable__content pre {\n",
              "  margin: 0.2em;\n",
              "  border-radius: 0.25em;\n",
              "  color: var(--sklearn-color-text);\n",
              "  /* unfitted */\n",
              "  background-color: var(--sklearn-color-unfitted-level-0);\n",
              "}\n",
              "\n",
              "#sk-container-id-1 div.sk-toggleable__content.fitted pre {\n",
              "  /* unfitted */\n",
              "  background-color: var(--sklearn-color-fitted-level-0);\n",
              "}\n",
              "\n",
              "#sk-container-id-1 input.sk-toggleable__control:checked~div.sk-toggleable__content {\n",
              "  /* Expand drop-down */\n",
              "  max-height: 200px;\n",
              "  max-width: 100%;\n",
              "  overflow: auto;\n",
              "}\n",
              "\n",
              "#sk-container-id-1 input.sk-toggleable__control:checked~label.sk-toggleable__label-arrow:before {\n",
              "  content: \"▾\";\n",
              "}\n",
              "\n",
              "/* Pipeline/ColumnTransformer-specific style */\n",
              "\n",
              "#sk-container-id-1 div.sk-label input.sk-toggleable__control:checked~label.sk-toggleable__label {\n",
              "  color: var(--sklearn-color-text);\n",
              "  background-color: var(--sklearn-color-unfitted-level-2);\n",
              "}\n",
              "\n",
              "#sk-container-id-1 div.sk-label.fitted input.sk-toggleable__control:checked~label.sk-toggleable__label {\n",
              "  background-color: var(--sklearn-color-fitted-level-2);\n",
              "}\n",
              "\n",
              "/* Estimator-specific style */\n",
              "\n",
              "/* Colorize estimator box */\n",
              "#sk-container-id-1 div.sk-estimator input.sk-toggleable__control:checked~label.sk-toggleable__label {\n",
              "  /* unfitted */\n",
              "  background-color: var(--sklearn-color-unfitted-level-2);\n",
              "}\n",
              "\n",
              "#sk-container-id-1 div.sk-estimator.fitted input.sk-toggleable__control:checked~label.sk-toggleable__label {\n",
              "  /* fitted */\n",
              "  background-color: var(--sklearn-color-fitted-level-2);\n",
              "}\n",
              "\n",
              "#sk-container-id-1 div.sk-label label.sk-toggleable__label,\n",
              "#sk-container-id-1 div.sk-label label {\n",
              "  /* The background is the default theme color */\n",
              "  color: var(--sklearn-color-text-on-default-background);\n",
              "}\n",
              "\n",
              "/* On hover, darken the color of the background */\n",
              "#sk-container-id-1 div.sk-label:hover label.sk-toggleable__label {\n",
              "  color: var(--sklearn-color-text);\n",
              "  background-color: var(--sklearn-color-unfitted-level-2);\n",
              "}\n",
              "\n",
              "/* Label box, darken color on hover, fitted */\n",
              "#sk-container-id-1 div.sk-label.fitted:hover label.sk-toggleable__label.fitted {\n",
              "  color: var(--sklearn-color-text);\n",
              "  background-color: var(--sklearn-color-fitted-level-2);\n",
              "}\n",
              "\n",
              "/* Estimator label */\n",
              "\n",
              "#sk-container-id-1 div.sk-label label {\n",
              "  font-family: monospace;\n",
              "  font-weight: bold;\n",
              "  display: inline-block;\n",
              "  line-height: 1.2em;\n",
              "}\n",
              "\n",
              "#sk-container-id-1 div.sk-label-container {\n",
              "  text-align: center;\n",
              "}\n",
              "\n",
              "/* Estimator-specific */\n",
              "#sk-container-id-1 div.sk-estimator {\n",
              "  font-family: monospace;\n",
              "  border: 1px dotted var(--sklearn-color-border-box);\n",
              "  border-radius: 0.25em;\n",
              "  box-sizing: border-box;\n",
              "  margin-bottom: 0.5em;\n",
              "  /* unfitted */\n",
              "  background-color: var(--sklearn-color-unfitted-level-0);\n",
              "}\n",
              "\n",
              "#sk-container-id-1 div.sk-estimator.fitted {\n",
              "  /* fitted */\n",
              "  background-color: var(--sklearn-color-fitted-level-0);\n",
              "}\n",
              "\n",
              "/* on hover */\n",
              "#sk-container-id-1 div.sk-estimator:hover {\n",
              "  /* unfitted */\n",
              "  background-color: var(--sklearn-color-unfitted-level-2);\n",
              "}\n",
              "\n",
              "#sk-container-id-1 div.sk-estimator.fitted:hover {\n",
              "  /* fitted */\n",
              "  background-color: var(--sklearn-color-fitted-level-2);\n",
              "}\n",
              "\n",
              "/* Specification for estimator info (e.g. \"i\" and \"?\") */\n",
              "\n",
              "/* Common style for \"i\" and \"?\" */\n",
              "\n",
              ".sk-estimator-doc-link,\n",
              "a:link.sk-estimator-doc-link,\n",
              "a:visited.sk-estimator-doc-link {\n",
              "  float: right;\n",
              "  font-size: smaller;\n",
              "  line-height: 1em;\n",
              "  font-family: monospace;\n",
              "  background-color: var(--sklearn-color-background);\n",
              "  border-radius: 1em;\n",
              "  height: 1em;\n",
              "  width: 1em;\n",
              "  text-decoration: none !important;\n",
              "  margin-left: 0.5em;\n",
              "  text-align: center;\n",
              "  /* unfitted */\n",
              "  border: var(--sklearn-color-unfitted-level-1) 1pt solid;\n",
              "  color: var(--sklearn-color-unfitted-level-1);\n",
              "}\n",
              "\n",
              ".sk-estimator-doc-link.fitted,\n",
              "a:link.sk-estimator-doc-link.fitted,\n",
              "a:visited.sk-estimator-doc-link.fitted {\n",
              "  /* fitted */\n",
              "  border: var(--sklearn-color-fitted-level-1) 1pt solid;\n",
              "  color: var(--sklearn-color-fitted-level-1);\n",
              "}\n",
              "\n",
              "/* On hover */\n",
              "div.sk-estimator:hover .sk-estimator-doc-link:hover,\n",
              ".sk-estimator-doc-link:hover,\n",
              "div.sk-label-container:hover .sk-estimator-doc-link:hover,\n",
              ".sk-estimator-doc-link:hover {\n",
              "  /* unfitted */\n",
              "  background-color: var(--sklearn-color-unfitted-level-3);\n",
              "  color: var(--sklearn-color-background);\n",
              "  text-decoration: none;\n",
              "}\n",
              "\n",
              "div.sk-estimator.fitted:hover .sk-estimator-doc-link.fitted:hover,\n",
              ".sk-estimator-doc-link.fitted:hover,\n",
              "div.sk-label-container:hover .sk-estimator-doc-link.fitted:hover,\n",
              ".sk-estimator-doc-link.fitted:hover {\n",
              "  /* fitted */\n",
              "  background-color: var(--sklearn-color-fitted-level-3);\n",
              "  color: var(--sklearn-color-background);\n",
              "  text-decoration: none;\n",
              "}\n",
              "\n",
              "/* Span, style for the box shown on hovering the info icon */\n",
              ".sk-estimator-doc-link span {\n",
              "  display: none;\n",
              "  z-index: 9999;\n",
              "  position: relative;\n",
              "  font-weight: normal;\n",
              "  right: .2ex;\n",
              "  padding: .5ex;\n",
              "  margin: .5ex;\n",
              "  width: min-content;\n",
              "  min-width: 20ex;\n",
              "  max-width: 50ex;\n",
              "  color: var(--sklearn-color-text);\n",
              "  box-shadow: 2pt 2pt 4pt #999;\n",
              "  /* unfitted */\n",
              "  background: var(--sklearn-color-unfitted-level-0);\n",
              "  border: .5pt solid var(--sklearn-color-unfitted-level-3);\n",
              "}\n",
              "\n",
              ".sk-estimator-doc-link.fitted span {\n",
              "  /* fitted */\n",
              "  background: var(--sklearn-color-fitted-level-0);\n",
              "  border: var(--sklearn-color-fitted-level-3);\n",
              "}\n",
              "\n",
              ".sk-estimator-doc-link:hover span {\n",
              "  display: block;\n",
              "}\n",
              "\n",
              "/* \"?\"-specific style due to the `<a>` HTML tag */\n",
              "\n",
              "#sk-container-id-1 a.estimator_doc_link {\n",
              "  float: right;\n",
              "  font-size: 1rem;\n",
              "  line-height: 1em;\n",
              "  font-family: monospace;\n",
              "  background-color: var(--sklearn-color-background);\n",
              "  border-radius: 1rem;\n",
              "  height: 1rem;\n",
              "  width: 1rem;\n",
              "  text-decoration: none;\n",
              "  /* unfitted */\n",
              "  color: var(--sklearn-color-unfitted-level-1);\n",
              "  border: var(--sklearn-color-unfitted-level-1) 1pt solid;\n",
              "}\n",
              "\n",
              "#sk-container-id-1 a.estimator_doc_link.fitted {\n",
              "  /* fitted */\n",
              "  border: var(--sklearn-color-fitted-level-1) 1pt solid;\n",
              "  color: var(--sklearn-color-fitted-level-1);\n",
              "}\n",
              "\n",
              "/* On hover */\n",
              "#sk-container-id-1 a.estimator_doc_link:hover {\n",
              "  /* unfitted */\n",
              "  background-color: var(--sklearn-color-unfitted-level-3);\n",
              "  color: var(--sklearn-color-background);\n",
              "  text-decoration: none;\n",
              "}\n",
              "\n",
              "#sk-container-id-1 a.estimator_doc_link.fitted:hover {\n",
              "  /* fitted */\n",
              "  background-color: var(--sklearn-color-fitted-level-3);\n",
              "}\n",
              "</style><div id=\"sk-container-id-1\" class=\"sk-top-container\"><div class=\"sk-text-repr-fallback\"><pre>SVC(class_weight=&#x27;balanced&#x27;, kernel=&#x27;linear&#x27;, random_state=42)</pre><b>In a Jupyter environment, please rerun this cell to show the HTML representation or trust the notebook. <br />On GitHub, the HTML representation is unable to render, please try loading this page with nbviewer.org.</b></div><div class=\"sk-container\" hidden><div class=\"sk-item\"><div class=\"sk-estimator fitted sk-toggleable\"><input class=\"sk-toggleable__control sk-hidden--visually\" id=\"sk-estimator-id-1\" type=\"checkbox\" checked><label for=\"sk-estimator-id-1\" class=\"sk-toggleable__label fitted sk-toggleable__label-arrow\"><div><div>SVC</div></div><div><a class=\"sk-estimator-doc-link fitted\" rel=\"noreferrer\" target=\"_blank\" href=\"https://scikit-learn.org/1.6/modules/generated/sklearn.svm.SVC.html\">?<span>Documentation for SVC</span></a><span class=\"sk-estimator-doc-link fitted\">i<span>Fitted</span></span></div></label><div class=\"sk-toggleable__content fitted\"><pre>SVC(class_weight=&#x27;balanced&#x27;, kernel=&#x27;linear&#x27;, random_state=42)</pre></div> </div></div></div></div>"
            ]
          },
          "metadata": {},
          "execution_count": 27
        }
      ]
    },
    {
      "cell_type": "code",
      "source": [
        "\n",
        "# Final Predictions for claps categories\n",
        "y_pred_claps = svm_model.predict(X_test_final)\n",
        "\n",
        "# Calculate final accuracy for claps categories\n",
        "final_accuracy_claps = accuracy_score(y_test_claps, y_pred_claps)\n",
        "print(f\"Final Accuracy for Claps Categories: {final_accuracy_claps:.4f}\")\n"
      ],
      "metadata": {
        "colab": {
          "base_uri": "https://localhost:8080/"
        },
        "id": "U_bRX7yZXBk_",
        "outputId": "c3b0a2cd-01db-4a20-8762-9d6ae8c046bb"
      },
      "execution_count": 28,
      "outputs": [
        {
          "output_type": "stream",
          "name": "stdout",
          "text": [
            "Final Accuracy for Claps Categories: 0.5147\n"
          ]
        }
      ]
    },
    {
      "cell_type": "code",
      "source": [
        "# Classification Report for claps categories\n",
        "print(\"\\nClassification Report for Claps Categories:\\n\")\n",
        "print(classification_report(\n",
        "    y_test_claps,\n",
        "    y_pred_claps,\n",
        "    labels=sorted(set(y_train_claps)),  # Ensure that labels correspond to the training set\n",
        "    target_names=label_encoder_claps.inverse_transform(sorted(set(y_train_claps))).tolist(),\n",
        "))"
      ],
      "metadata": {
        "colab": {
          "base_uri": "https://localhost:8080/"
        },
        "id": "ixmEd6cuXK9w",
        "outputId": "f3dca40d-39ef-41c0-d829-d19a3dfdbd36"
      },
      "execution_count": 29,
      "outputs": [
        {
          "output_type": "stream",
          "name": "stdout",
          "text": [
            "\n",
            "Classification Report for Claps Categories:\n",
            "\n",
            "              precision    recall  f1-score   support\n",
            "\n",
            "        High       0.61      0.49      0.54        35\n",
            "         Low       0.62      0.54      0.58        28\n",
            "      Medium       0.19      0.60      0.29         5\n",
            "\n",
            "    accuracy                           0.51        68\n",
            "   macro avg       0.47      0.54      0.47        68\n",
            "weighted avg       0.58      0.51      0.54        68\n",
            "\n"
          ]
        }
      ]
    },
    {
      "cell_type": "code",
      "source": [
        "\n",
        "# --- Confusion Matrix Visualization for Claps Categories ---\n",
        "conf_matrix_claps = confusion_matrix(y_test_claps, y_pred_claps)\n",
        "plt.figure(figsize=(10, 7))\n",
        "sns.heatmap(conf_matrix_claps, annot=True, fmt='d', cmap='Blues',\n",
        "            xticklabels=label_encoder_claps.classes_, yticklabels=label_encoder_claps.classes_)\n",
        "plt.title('Confusion Matrix for Claps Categories')\n",
        "plt.xlabel('Predicted')\n",
        "plt.ylabel('Actual')\n",
        "plt.show()\n"
      ],
      "metadata": {
        "colab": {
          "base_uri": "https://localhost:8080/",
          "height": 641
        },
        "id": "VztvM4qFXVXf",
        "outputId": "2ede77f1-90fd-439b-fbb4-4f1334c1044f"
      },
      "execution_count": 30,
      "outputs": [
        {
          "output_type": "display_data",
          "data": {
            "text/plain": [
              "<Figure size 1000x700 with 2 Axes>"
            ],
            "image/png": "[encoded data removed]"
          },
          "metadata": {}
        }
      ]
    },
    {
      "cell_type": "code",
      "source": [
        "# --- Topic Classification ---\n",
        "y_topic = df['topic']  # Use topic for classification\n",
        "\n",
        "# Encode target labels for topics\n",
        "label_encoder_topic = LabelEncoder()\n",
        "y_encoded_topic = label_encoder_topic.fit_transform(y_topic)\n",
        "\n",
        "# --- Train-Test Split with Stratification ---\n",
        "X_train_topic, X_test_topic, y_train_topic, y_test_topic = train_test_split(\n",
        "    X,\n",
        "    y_encoded_topic,\n",
        "    test_size=0.2,\n",
        "    random_state=42,\n",
        "    stratify=y_encoded_topic  # Stratify by target labels\n",
        ")\n"
      ],
      "metadata": {
        "id": "4p3cq-1IUgFL"
      },
      "execution_count": 31,
      "outputs": []
    },
    {
      "cell_type": "code",
      "source": [
        "\n",
        "# --- Backward Elimination for Topic Classification ---\n",
        "n_features_topic = X_train_topic.shape[1]\n",
        "features_to_keep_topic = list(range(n_features_topic))\n",
        "\n",
        "best_accuracy_topic = 0.0\n",
        "\n",
        "while len(features_to_keep_topic) > 0:\n",
        "    accuracies = []\n",
        "\n",
        "    # Evaluate model without each feature\n",
        "    for feature in features_to_keep_topic:\n",
        "        temp_features = [f for f in features_to_keep_topic if f != feature]\n",
        "        X_train_temp_topic = X_train_topic[:, temp_features]\n",
        "        X_test_temp_topic = X_test_topic[:, temp_features]\n",
        "\n",
        "        # Train and evaluate SVM model\n",
        "        svm_model_temp_topic = SVC(kernel='linear', class_weight='balanced', random_state=42)\n",
        "        svm_model_temp_topic.fit(X_train_temp_topic, y_train_topic)\n",
        "\n",
        "        # Predict and calculate accuracy\n",
        "        temp_predictions_topic = svm_model_temp_topic.predict(X_test_temp_topic)\n",
        "        temp_accuracy_topic = accuracy_score(y_test_topic, temp_predictions_topic)\n",
        "        accuracies.append((feature, temp_accuracy_topic))\n",
        "\n",
        "    # Find the feature with the lowest accuracy when removed\n",
        "    feature_to_remove_topic, lowest_accuracy_topic = min(accuracies, key=lambda x: x[1])\n",
        "\n",
        "    # If the lowest accuracy is better than the best accuracy, keep it\n",
        "    if lowest_accuracy_topic < best_accuracy_topic:\n",
        "        break\n",
        "\n",
        "    # Remove the feature and update the best accuracy\n",
        "    features_to_keep_topic.remove(feature_to_remove_topic)\n",
        "    best_accuracy_topic = lowest_accuracy_topic\n",
        "    print(f\"Removed feature {feature_to_remove_topic}, New Best Accuracy for Topic Classification: {best_accuracy_topic:.4f}\")\n",
        "\n",
        "# Final feature set after backward elimination for topic classification\n",
        "X_train_final_topic = X_train_topic[:, features_to_keep_topic]\n",
        "X_test_final_topic = X_test_topic[:, features_to_keep_topic]"
      ],
      "metadata": {
        "colab": {
          "base_uri": "https://localhost:8080/"
        },
        "id": "XtjEgznuUmR_",
        "outputId": "9fe8f9eb-1028-4ecd-eddd-f89cf311e960"
      },
      "execution_count": 32,
      "outputs": [
        {
          "output_type": "stream",
          "name": "stdout",
          "text": [
            "Removed feature 14, New Best Accuracy for Topic Classification: 0.7647\n"
          ]
        }
      ]
    },
    {
      "cell_type": "code",
      "source": [
        "# --- Train the SVM model after backward elimination for topic classification ---\n",
        "svm_model_topic = SVC(kernel='linear', class_weight='balanced', random_state=42)\n",
        "svm_model_topic.fit(X_train_final_topic, y_train_topic)\n",
        "\n",
        "# Final Predictions for topic classification\n",
        "y_pred_topic = svm_model_topic.predict(X_test_final_topic)\n",
        "\n",
        "# Calculate final accuracy for topic classification\n",
        "final_accuracy_topic = accuracy_score(y_test_topic, y_pred_topic)\n",
        "print(f\"Final Accuracy for Topic Classification: {final_accuracy_topic:.4f}\")"
      ],
      "metadata": {
        "colab": {
          "base_uri": "https://localhost:8080/"
        },
        "id": "U53_8M_iUqYG",
        "outputId": "b5e56649-3f32-4824-854a-937186155549"
      },
      "execution_count": 33,
      "outputs": [
        {
          "output_type": "stream",
          "name": "stdout",
          "text": [
            "Final Accuracy for Topic Classification: 0.7647\n"
          ]
        }
      ]
    },
    {
      "cell_type": "code",
      "source": [
        "\n",
        "# Classification Report for topic classification\n",
        "print(\"\\nClassification Report for Topic Classification:\\n\")\n",
        "print(classification_report(\n",
        "    y_test_topic,\n",
        "    y_pred_topic,\n",
        "    labels=sorted(set(y_train_topic)),  # Ensure that labels correspond to the training set\n",
        "    target_names=label_encoder_topic.inverse_transform(sorted(set(y_train_topic))).tolist(),\n",
        "))\n"
      ],
      "metadata": {
        "colab": {
          "base_uri": "https://localhost:8080/"
        },
        "id": "vEg9b3U4UxTD",
        "outputId": "81b6760b-c026-4036-f573-9dbd40c7f544"
      },
      "execution_count": 34,
      "outputs": [
        {
          "output_type": "stream",
          "name": "stdout",
          "text": [
            "\n",
            "Classification Report for Topic Classification:\n",
            "\n",
            "                         precision    recall  f1-score   support\n",
            "\n",
            "Artificial Intelligence       0.19      0.50      0.27         6\n",
            "        Neural Networks       0.94      0.79      0.86        62\n",
            "\n",
            "               accuracy                           0.76        68\n",
            "              macro avg       0.56      0.65      0.57        68\n",
            "           weighted avg       0.88      0.76      0.81        68\n",
            "\n"
          ]
        }
      ]
    },
    {
      "cell_type": "code",
      "source": [
        "# --- Confusion Matrix Visualization for Topic Classification ---\n",
        "conf_matrix_topic = confusion_matrix(y_test_topic, y_pred_topic)\n",
        "plt.figure(figsize=(10, 7))\n",
        "sns.heatmap(conf_matrix_topic, annot=True, fmt='d', cmap='Blues',\n",
        "            xticklabels=label_encoder_topic.classes_, yticklabels=label_encoder_topic.classes_)\n",
        "plt.title('Confusion Matrix for Topic Classification')\n",
        "plt.xlabel('Predicted')\n",
        "plt.ylabel('Actual')\n",
        "plt.show()\n"
      ],
      "metadata": {
        "colab": {
          "base_uri": "https://localhost:8080/",
          "height": 641
        },
        "id": "Mhrt_b9iU10S",
        "outputId": "54377c3d-4799-462d-98b8-2670c1fb5d96"
      },
      "execution_count": 35,
      "outputs": [
        {
          "output_type": "display_data",
          "data": {
            "text/plain": [
              "<Figure size 1000x700 with 2 Axes>"
            ],
            "image/png": "[encoded data removed]"
          },
          "metadata": {}
        }
      ]
    },
    {
      "cell_type": "code",
      "source": [
        "# Define example inputs for testing with titles and text\n",
        "example_inputs = [\n",
        "    {\n",
        "        \"title\": \"Cloud Services Explained: Navigating AWS, Azure, and Google Cloud\",\n",
        "        \"text\": \"Cloud computing offers a variety of services that enhance flexibility and scalability for businesses. This article provides an overview of major cloud service providers, including AWS, Azure, and Google Cloud, and compares their offerings. We will discuss various cloud models, such as IaaS, PaaS, and SaaS, to help you choose the right solution for your needs.\"\n",
        "    },\n",
        "    {\n",
        "        \"title\": \"Deep Learning for Image Classification\",\n",
        "        \"text\": \"Convolutional Neural Networks (CNNs) are widely used for image classification tasks. In this article, we explore how CNNs work, the training process, and their application in areas such as facial recognition, medical imaging, and autonomous vehicles.\"\n",
        "    },\n",
        "]\n",
        "\n",
        "# Preprocess and vectorize the example inputs using GloVe\n",
        "preprocessed_inputs = [\n",
        "    preprocess_text(item[\"title\"] + \" \" + item[\"text\"]) for item in example_inputs\n",
        "]\n",
        "input_vectors_glove = np.vstack([vectorize_text_glove(tokens, glove_embeddings) for tokens in preprocessed_inputs])\n",
        "\n",
        "# Check the shape of the training data to confirm dimensions\n",
        "print(f\"Shape of X_train during training: {X_train.shape}\")  # Print the shape of the training data\n",
        "\n",
        "# Ensure the input vectors for prediction have the same shape by applying features_to_keep\n",
        "input_vectors_final_glove = input_vectors_glove[:, features_to_keep]  # Apply the same features_to_keep as for training\n",
        "\n",
        "# Check the shape of the input vectors for prediction\n",
        "print(f\"Shape of input vectors for prediction: {input_vectors_final_glove.shape}\")\n",
        "\n",
        "# Make predictions for claps category\n",
        "predictions_claps = svm_model.predict(input_vectors_final_glove)\n",
        "\n",
        "# Make predictions for topics using GloVe vectors\n",
        "predictions_topic = svm_model_topic.predict(input_vectors_final_glove)\n",
        "\n",
        "# Decode predictions and display the results\n",
        "predicted_claps = label_encoder_claps.inverse_transform(predictions_claps)  # Decoding claps predictions\n",
        "predicted_topics = label_encoder_topic.inverse_transform(predictions_topic)  # Decoding topic predictions\n",
        "\n",
        "# Print results for each input example\n",
        "for item, clap, topic in zip(example_inputs, predicted_claps, predicted_topics):\n",
        "    print(f\"Title: {item['title']}\\nPredicted Clap Category: {clap}\\nPredicted Topic: {topic}\\n\")\n",
        "\n",
        "\n",
        "\n"
      ],
      "metadata": {
        "colab": {
          "base_uri": "https://localhost:8080/"
        },
        "id": "VE7hDQkzU59L",
        "outputId": "07280dcb-260e-43bc-db0e-6f20f4c46db6"
      },
      "execution_count": 36,
      "outputs": [
        {
          "output_type": "stream",
          "name": "stdout",
          "text": [
            "Shape of X_train during training: (269, 200)\n",
            "Shape of input vectors for prediction: (2, 199)\n",
            "Title: Cloud Services Explained: Navigating AWS, Azure, and Google Cloud\n",
            "Predicted Clap Category: Low\n",
            "Predicted Topic: Artificial Intelligence\n",
            "\n",
            "Title: Deep Learning for Image Classification\n",
            "Predicted Clap Category: High\n",
            "Predicted Topic: Neural Networks\n",
            "\n"
          ]
        }
      ]
    }
  ]
}