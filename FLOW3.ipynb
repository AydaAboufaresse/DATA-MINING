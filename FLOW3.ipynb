{
  "nbformat": 4,
  "nbformat_minor": 0,
  "metadata": {
    "colab": {
      "provenance": [],
      "authorship_tag": "ABX9TyNDBRt2ZR3pp/QNqhjVgRKJ",
      "include_colab_link": true
    },
    "kernelspec": {
      "name": "python3",
      "display_name": "Python 3"
    },
    "language_info": {
      "name": "python"
    }
  },
  "cells": [
    {
      "cell_type": "markdown",
      "metadata": {
        "id": "view-in-github",
        "colab_type": "text"
      },
      "source": [
        "<a href=\"https://colab.research.google.com/github/AydaAboufaresse/DATA-MINING/blob/main/FLOW3.ipynb\" target=\"_parent\"><img src=\"https://colab.research.google.com/assets/colab-badge.svg\" alt=\"Open In Colab\"/></a>"
      ]
    },
    {
      "cell_type": "code",
      "execution_count": 1,
      "metadata": {
        "colab": {
          "base_uri": "https://localhost:8080/"
        },
        "id": "r0y_FyUmW9kQ",
        "outputId": "31f47611-ad9c-42b6-afef-3a4f28c6cdb4"
      },
      "outputs": [
        {
          "output_type": "stream",
          "name": "stderr",
          "text": [
            "[nltk_data] Downloading package punkt to /root/nltk_data...\n",
            "[nltk_data]   Unzipping tokenizers/punkt.zip.\n",
            "[nltk_data] Downloading package stopwords to /root/nltk_data...\n",
            "[nltk_data]   Unzipping corpora/stopwords.zip.\n",
            "[nltk_data] Downloading package punkt_tab to /root/nltk_data...\n",
            "[nltk_data]   Unzipping tokenizers/punkt_tab.zip.\n"
          ]
        }
      ],
      "source": [
        "# Required libraries\n",
        "import pandas as pd\n",
        "import numpy as np\n",
        "from gensim.models import Word2Vec\n",
        "from nltk.tokenize import word_tokenize\n",
        "from nltk.corpus import stopwords\n",
        "from sklearn.model_selection import train_test_split\n",
        "from sklearn.svm import SVC\n",
        "from sklearn.metrics import classification_report, accuracy_score, confusion_matrix\n",
        "from sklearn.preprocessing import LabelEncoder\n",
        "import nltk\n",
        "import seaborn as sns\n",
        "import matplotlib.pyplot as plt\n",
        "import re\n",
        "from nltk.stem import PorterStemmer\n",
        "\n",
        "# Ensure necessary NLTK resources are downloaded\n",
        "nltk.download('punkt')\n",
        "nltk.download('stopwords')\n",
        "nltk.download('punkt_tab')\n",
        "# Initialize the stop words and Porter stemmer\n",
        "stop_words = set(stopwords.words('english'))\n",
        "stemmer = PorterStemmer()\n",
        "\n",
        "# Load the dataset\n",
        "df = pd.read_csv('articles.csv')"
      ]
    },
    {
      "cell_type": "code",
      "source": [
        "# Load the dataset\n",
        "df = pd.read_csv('articles.csv')\n",
        "\n",
        "# --- Text Preprocessing with Porter Stemmer ---\n",
        "def preprocess_text(text):\n",
        "    # Lowercase the text\n",
        "    text = text.lower()\n",
        "\n",
        "    # Remove URLs and email addresses\n",
        "    text = re.sub(r'http\\S+|www\\S+|https\\S+|@[\\w]+', '', text)\n",
        "\n",
        "    # Remove punctuation and special characters (excluding spaces)\n",
        "    text = re.sub(r'[^\\w\\s]', '', text)\n",
        "\n",
        "    # Tokenize the text\n",
        "    tokens = word_tokenize(text)\n",
        "\n",
        "    # Remove stopwords and apply stemming\n",
        "    tokens = [stemmer.stem(word) for word in tokens if word.isalpha() and word not in stop_words]\n",
        "\n",
        "    # Remove words that are too long or too short (optional)\n",
        "    tokens = [word for word in tokens if len(word) > 2 and len(word) < 20]\n",
        "\n",
        "    return tokens\n",
        "\n",
        "# Apply preprocessing to both text and title for Word2Vec\n",
        "df['processed_text'] = df['text'].apply(preprocess_text)\n",
        "df['processed_title'] = df['title'].apply(preprocess_text)\n"
      ],
      "metadata": {
        "id": "qhMjdTFDaDCP"
      },
      "execution_count": 2,
      "outputs": []
    },
    {
      "cell_type": "code",
      "source": [
        "# --- Combine Processed Text and Title ---\n",
        "# Create a combined tokens column for each row\n",
        "df['combined_processed'] = df.apply(lambda row: row['processed_text'] + row['processed_title'], axis=1)\n",
        "\n",
        "# --- Word2Vec Model ---\n",
        "# Train Word2Vec on the combined preprocessed text and title\n",
        "word2vec_model = Word2Vec(df['combined_processed'].tolist(), vector_size=100, window=5, min_count=1, workers=4, sg=0)\n",
        "\n",
        "# Aggregate word vectors to document vectors\n",
        "def vectorize_text(tokens, model):\n",
        "    vectors = [model.wv[word] for word in tokens if word in model.wv]\n",
        "    return np.mean(vectors, axis=0) if vectors else np.zeros(model.vector_size)\n",
        "\n",
        "# Create document vectors for the combined text and title\n",
        "df['document_vector'] = df['combined_processed'].apply(lambda x: vectorize_text(x, word2vec_model))"
      ],
      "metadata": {
        "id": "tEO1HuLOak64"
      },
      "execution_count": 3,
      "outputs": []
    },
    {
      "cell_type": "code",
      "source": [
        "# --- Classify 'claps' ---\n",
        "def convert_claps(value):\n",
        "    if isinstance(value, str):\n",
        "        if 'K' in value:\n",
        "            return float(value.replace('K', '').replace(',', '').strip()) * 1000\n",
        "        return float(value.replace(',', '').strip())\n",
        "    return value\n",
        "\n",
        "# Convert the 'claps' column to numeric\n",
        "df['claps'] = df['claps'].apply(convert_claps)\n",
        "\n",
        "# Fill NaN values with the mean of the column\n",
        "df['claps'] = df['claps'].fillna(df['claps'].mean())\n",
        "\n",
        "# Function to classify claps\n",
        "def classify_claps(claps):\n",
        "    if claps < 1000:\n",
        "        return \"Low\"\n",
        "    elif 1000 <= claps < 2000:\n",
        "        return \"Medium\"\n",
        "    else:\n",
        "        return \"High\"\n",
        "\n",
        "# Apply classification\n",
        "df['claps_category'] = df['claps'].apply(classify_claps)"
      ],
      "metadata": {
        "id": "_zQ6zu5xarfg"
      },
      "execution_count": 4,
      "outputs": []
    },
    {
      "cell_type": "code",
      "source": [
        "# --- Define Topics ---\n",
        "topics_keywords = {\n",
        "    \"Neural Networks\": [\"network\", \"neural\", \"layer\", \"output\", \"neuron\", \"training\", \"input\", \"weights\", \"function\", \"layers\"],\n",
        "    \"Artificial Intelligence\": [\"ai\", \"intelligence\", \"human\", \"people\", \"technology\", \"artificial\", \"google\", \"humans\", \"computer\"],\n",
        "    \"Reinforcement Learning\": [\"table\", \"action\", \"policy\", \"learning\", \"reward\", \"actions\", \"network\", \"environment\", \"state\", \"rl\"],\n",
        "    \"Machine Learning & Data Science\": [\"learning\", \"data\", \"machine\", \"course\", \"model\", \"ml\", \"science\", \"deep\", \"algorithms\", \"house\"],\n",
        "    \"Computer Vision\": [\"image\", \"model\", \"cnn\", \"images\", \"pi\", \"object\", \"gtx\", \"training\", \"1080\", \"deep\"],\n",
        "}\n",
        "\n",
        "# Classify topics based on keywords in both title and text\n",
        "def classify_topic(row, keywords):\n",
        "    combined_text = f\"{row['title'].lower()} {row['text'].lower()}\"\n",
        "    for topic, words in keywords.items():\n",
        "        if any(word in combined_text for word in words):\n",
        "            return topic\n",
        "    return \"Other\"\n",
        "\n",
        "df['topic'] = df.apply(lambda row: classify_topic(row, topics_keywords), axis=1)\n"
      ],
      "metadata": {
        "id": "znqDO0GYa0ad"
      },
      "execution_count": 5,
      "outputs": []
    },
    {
      "cell_type": "code",
      "source": [
        "# --- Train-Test Split ---\n",
        "X = np.vstack(df['document_vector'].values)\n",
        "y_claps = df['claps_category']  # Use claps category for classification\n",
        "\n",
        "# Encode target labels for claps\n",
        "label_encoder_claps = LabelEncoder()\n",
        "y_encoded_claps = label_encoder_claps.fit_transform(y_claps)\n",
        "\n",
        "# --- Train-Test Split with Stratification ---\n",
        "X_train, X_test, y_train_claps, y_test_claps = train_test_split(\n",
        "    X,\n",
        "    y_encoded_claps,\n",
        "    test_size=0.2,\n",
        "    random_state=42,\n",
        "    stratify=y_encoded_claps  # Stratify by target labels\n",
        ")"
      ],
      "metadata": {
        "id": "zIEarNota6SP"
      },
      "execution_count": 6,
      "outputs": []
    },
    {
      "cell_type": "code",
      "source": [
        "# --- Backward Elimination --- (Before training)\n",
        "n_features = X_train.shape[1]\n",
        "features_to_keep = list(range(n_features))\n",
        "\n",
        "best_accuracy = 0.0\n",
        "\n",
        "while len(features_to_keep) > 0:\n",
        "    accuracies = []\n",
        "\n",
        "    # Evaluate model without each feature\n",
        "    for feature in features_to_keep:\n",
        "        temp_features = [f for f in features_to_keep if f != feature]\n",
        "        X_train_temp = X_train[:, temp_features]\n",
        "        X_test_temp = X_test[:, temp_features]\n",
        "\n",
        "        # Train and evaluate SVM model\n",
        "        svm_model_temp = SVC(kernel='linear', class_weight='balanced', random_state=42)\n",
        "        svm_model_temp.fit(X_train_temp, y_train_claps)\n",
        "\n",
        "        # Predict and calculate accuracy\n",
        "        temp_predictions = svm_model_temp.predict(X_test_temp)\n",
        "        temp_accuracy = accuracy_score(y_test_claps, temp_predictions)\n",
        "        accuracies.append((feature, temp_accuracy))\n",
        "\n",
        "    # Find the feature with the lowest accuracy when removed\n",
        "    feature_to_remove, lowest_accuracy = min(accuracies, key=lambda x: x[1])\n",
        "\n",
        "    # If the lowest accuracy is better than the best accuracy, keep it\n",
        "    if lowest_accuracy < best_accuracy:\n",
        "        break\n",
        "\n",
        "    # Remove the feature and update the best accuracy\n",
        "    features_to_keep.remove(feature_to_remove)\n",
        "    best_accuracy = lowest_accuracy\n",
        "    print(f\"Removed feature {feature_to_remove}, New Best Accuracy for Claps Categories: {best_accuracy:.4f}\")\n",
        "\n",
        "# Final feature set after backward elimination\n",
        "X_train_final = X_train[:, features_to_keep]\n",
        "X_test_final = X_test[:, features_to_keep]\n"
      ],
      "metadata": {
        "colab": {
          "base_uri": "https://localhost:8080/"
        },
        "id": "CWL4t0vDbG-x",
        "outputId": "89600b40-915f-4eb7-f3ee-510aa17a415a"
      },
      "execution_count": 7,
      "outputs": [
        {
          "output_type": "stream",
          "name": "stdout",
          "text": [
            "Removed feature 24, New Best Accuracy for Claps Categories: 0.5147\n",
            "Removed feature 1, New Best Accuracy for Claps Categories: 0.5147\n",
            "Removed feature 2, New Best Accuracy for Claps Categories: 0.5147\n",
            "Removed feature 4, New Best Accuracy for Claps Categories: 0.5147\n",
            "Removed feature 0, New Best Accuracy for Claps Categories: 0.5147\n"
          ]
        }
      ]
    },
    {
      "cell_type": "code",
      "source": [
        "# --- Train the SVM model after backward elimination ---\n",
        "svm_model = SVC(kernel='linear', class_weight='balanced', random_state=42)\n",
        "svm_model.fit(X_train_final, y_train_claps)\n",
        "\n",
        "# Final Predictions for claps categories\n",
        "y_pred_claps = svm_model.predict(X_test_final)\n",
        "\n",
        "# Calculate final accuracy for claps categories\n",
        "final_accuracy_claps = accuracy_score(y_test_claps, y_pred_claps)\n",
        "print(f\"Final Accuracy for Claps Categories: {final_accuracy_claps:.4f}\")"
      ],
      "metadata": {
        "colab": {
          "base_uri": "https://localhost:8080/"
        },
        "id": "jsemgEpjbO_B",
        "outputId": "54ef2391-b3e0-4dd6-c1d0-45522c484972"
      },
      "execution_count": 8,
      "outputs": [
        {
          "output_type": "stream",
          "name": "stdout",
          "text": [
            "Final Accuracy for Claps Categories: 0.5147\n"
          ]
        }
      ]
    },
    {
      "cell_type": "code",
      "source": [
        "# Classification Report for claps categories\n",
        "print(\"\\nClassification Report for Claps Categories:\\n\")\n",
        "print(classification_report(\n",
        "    y_test_claps,\n",
        "    y_pred_claps,\n",
        "    labels=sorted(set(y_train_claps)),  # Ensure that labels correspond to the training set\n",
        "    target_names=label_encoder_claps.inverse_transform(sorted(set(y_train_claps))).tolist(),\n",
        "))"
      ],
      "metadata": {
        "colab": {
          "base_uri": "https://localhost:8080/"
        },
        "id": "28I561_ubSop",
        "outputId": "d375fb3c-42a8-4bf3-afc2-5e4a0a81b643"
      },
      "execution_count": 9,
      "outputs": [
        {
          "output_type": "stream",
          "name": "stdout",
          "text": [
            "\n",
            "Classification Report for Claps Categories:\n",
            "\n",
            "              precision    recall  f1-score   support\n",
            "\n",
            "        High       0.68      0.54      0.60        35\n",
            "         Low       0.58      0.50      0.54        28\n",
            "      Medium       0.12      0.40      0.19         5\n",
            "\n",
            "    accuracy                           0.51        68\n",
            "   macro avg       0.46      0.48      0.44        68\n",
            "weighted avg       0.60      0.51      0.55        68\n",
            "\n"
          ]
        }
      ]
    },
    {
      "cell_type": "code",
      "source": [
        "\n",
        "# --- Confusion Matrix Visualization for Claps Categories ---\n",
        "conf_matrix_claps = confusion_matrix(y_test_claps, y_pred_claps)\n",
        "plt.figure(figsize=(10, 7))\n",
        "sns.heatmap(conf_matrix_claps, annot=True, fmt='d', cmap='Blues',\n",
        "            xticklabels=label_encoder_claps.classes_, yticklabels=label_encoder_claps.classes_)\n",
        "plt.title('Confusion Matrix for Claps Categories')\n",
        "plt.xlabel('Predicted')\n",
        "plt.ylabel('Actual')\n",
        "plt.show()"
      ],
      "metadata": {
        "colab": {
          "base_uri": "https://localhost:8080/",
          "height": 546
        },
        "id": "CZ9QwSnVbWlp",
        "outputId": "35f492da-d896-4066-b02b-85d124070801"
      },
      "execution_count": 10,
      "outputs": [
        {
          "output_type": "display_data",
          "data": {
            "text/plain": [
              "<Figure size 1000x700 with 2 Axes>"
            ],
            "image/png": "[encoded data removed]"
          },
          "metadata": {}
        }
      ]
    },
    {
      "cell_type": "code",
      "source": [
        "# --- Topic Classification ---\n",
        "y_topic = df['topic']  # Use topic for classification\n",
        "\n",
        "# Encode target labels for topics\n",
        "label_encoder_topic = LabelEncoder()\n",
        "y_encoded_topic = label_encoder_topic.fit_transform(y_topic)\n",
        "\n",
        "# --- Train-Test Split with Stratification ---\n",
        "X_train_topic, X_test_topic, y_train_topic, y_test_topic = train_test_split(\n",
        "    X,\n",
        "    y_encoded_topic,\n",
        "    test_size=0.2,\n",
        "    random_state=42,\n",
        "    stratify=y_encoded_topic  # Stratify by target labels\n",
        ")"
      ],
      "metadata": {
        "id": "2sEYKWrDbhK1"
      },
      "execution_count": 11,
      "outputs": []
    },
    {
      "cell_type": "code",
      "source": [
        "# --- Backward Elimination for Topic Classification ---\n",
        "n_features_topic = X_train_topic.shape[1]\n",
        "features_to_keep_topic = list(range(n_features_topic))\n",
        "\n",
        "best_accuracy_topic = 0.0\n",
        "\n",
        "while len(features_to_keep_topic) > 0:\n",
        "    accuracies = []\n",
        "\n",
        "    # Evaluate model without each feature\n",
        "    for feature in features_to_keep_topic:\n",
        "        temp_features = [f for f in features_to_keep_topic if f != feature]\n",
        "        X_train_temp_topic = X_train_topic[:, temp_features]\n",
        "        X_test_temp_topic = X_test_topic[:, temp_features]\n",
        "\n",
        "        # Train and evaluate SVM model\n",
        "        svm_model_temp_topic = SVC(kernel='linear', class_weight='balanced', random_state=42)\n",
        "        svm_model_temp_topic.fit(X_train_temp_topic, y_train_topic)\n",
        "\n",
        "        # Predict and calculate accuracy\n",
        "        temp_predictions_topic = svm_model_temp_topic.predict(X_test_temp_topic)\n",
        "        temp_accuracy_topic = accuracy_score(y_test_topic, temp_predictions_topic)\n",
        "        accuracies.append((feature, temp_accuracy_topic))\n",
        "\n",
        "    # Find the feature with the lowest accuracy when removed\n",
        "    feature_to_remove_topic, lowest_accuracy_topic = min(accuracies, key=lambda x: x[1])\n",
        "\n",
        "    # If the lowest accuracy is better than the best accuracy, keep it\n",
        "    if lowest_accuracy_topic < best_accuracy_topic:\n",
        "        break\n",
        "\n",
        "    # Remove the feature and update the best accuracy\n",
        "    features_to_keep_topic.remove(feature_to_remove_topic)\n",
        "    best_accuracy_topic = lowest_accuracy_topic\n",
        "    print(f\"Removed feature {feature_to_remove_topic}, New Best Accuracy for Topic Classification: {best_accuracy_topic:.4f}\")\n",
        "\n",
        "# Final feature set after backward elimination for topic classification\n",
        "X_train_final_topic = X_train_topic[:, features_to_keep_topic]\n",
        "X_test_final_topic = X_test_topic[:, features_to_keep_topic]"
      ],
      "metadata": {
        "colab": {
          "base_uri": "https://localhost:8080/"
        },
        "id": "olefkfaxbrgI",
        "outputId": "8daa6ca7-198e-47b2-ba06-27c265829f2f"
      },
      "execution_count": 12,
      "outputs": [
        {
          "output_type": "stream",
          "name": "stdout",
          "text": [
            "Removed feature 65, New Best Accuracy for Topic Classification: 0.7206\n",
            "Removed feature 0, New Best Accuracy for Topic Classification: 0.7206\n",
            "Removed feature 1, New Best Accuracy for Topic Classification: 0.7206\n",
            "Removed feature 2, New Best Accuracy for Topic Classification: 0.7206\n",
            "Removed feature 3, New Best Accuracy for Topic Classification: 0.7206\n",
            "Removed feature 4, New Best Accuracy for Topic Classification: 0.7206\n",
            "Removed feature 5, New Best Accuracy for Topic Classification: 0.7206\n",
            "Removed feature 6, New Best Accuracy for Topic Classification: 0.7206\n",
            "Removed feature 7, New Best Accuracy for Topic Classification: 0.7206\n",
            "Removed feature 8, New Best Accuracy for Topic Classification: 0.7206\n",
            "Removed feature 9, New Best Accuracy for Topic Classification: 0.7206\n",
            "Removed feature 10, New Best Accuracy for Topic Classification: 0.7206\n",
            "Removed feature 11, New Best Accuracy for Topic Classification: 0.7206\n",
            "Removed feature 12, New Best Accuracy for Topic Classification: 0.7206\n",
            "Removed feature 13, New Best Accuracy for Topic Classification: 0.7206\n",
            "Removed feature 14, New Best Accuracy for Topic Classification: 0.7206\n",
            "Removed feature 15, New Best Accuracy for Topic Classification: 0.7206\n",
            "Removed feature 16, New Best Accuracy for Topic Classification: 0.7206\n",
            "Removed feature 17, New Best Accuracy for Topic Classification: 0.7206\n",
            "Removed feature 18, New Best Accuracy for Topic Classification: 0.7206\n",
            "Removed feature 19, New Best Accuracy for Topic Classification: 0.7206\n",
            "Removed feature 20, New Best Accuracy for Topic Classification: 0.7206\n",
            "Removed feature 21, New Best Accuracy for Topic Classification: 0.7206\n",
            "Removed feature 22, New Best Accuracy for Topic Classification: 0.7206\n",
            "Removed feature 23, New Best Accuracy for Topic Classification: 0.7206\n"
          ]
        }
      ]
    },
    {
      "cell_type": "code",
      "source": [
        "# --- Train the SVM model after backward elimination for topic classification ---\n",
        "svm_model_topic = SVC(kernel='linear', class_weight='balanced', random_state=42)\n",
        "svm_model_topic.fit(X_train_final_topic, y_train_topic)\n",
        "\n",
        "# Final Predictions for topic classification\n",
        "y_pred_topic = svm_model_topic.predict(X_test_final_topic)\n",
        "\n",
        "# Calculate final accuracy for topic classification\n",
        "final_accuracy_topic = accuracy_score(y_test_topic, y_pred_topic)\n",
        "print(f\"Final Accuracy for Topic Classification: {final_accuracy_topic:.4f}\")\n"
      ],
      "metadata": {
        "colab": {
          "base_uri": "https://localhost:8080/"
        },
        "id": "GKqrvrr-cOGU",
        "outputId": "835aa1c7-4803-44dd-b025-307f76757784"
      },
      "execution_count": 13,
      "outputs": [
        {
          "output_type": "stream",
          "name": "stdout",
          "text": [
            "Final Accuracy for Topic Classification: 0.7206\n"
          ]
        }
      ]
    },
    {
      "cell_type": "code",
      "source": [
        "# Classification Report for topic classification\n",
        "print(\"\\nClassification Report for Topic Classification:\\n\")\n",
        "print(classification_report(\n",
        "    y_test_topic,\n",
        "    y_pred_topic,\n",
        "    labels=sorted(set(y_train_topic)),  # Ensure that labels correspond to the training set\n",
        "    target_names=label_encoder_topic.inverse_transform(sorted(set(y_train_topic))).tolist(),\n",
        "))\n"
      ],
      "metadata": {
        "colab": {
          "base_uri": "https://localhost:8080/"
        },
        "id": "vO5ZGawtchZQ",
        "outputId": "46f52b77-b942-46eb-beae-27301837c16c"
      },
      "execution_count": 14,
      "outputs": [
        {
          "output_type": "stream",
          "name": "stdout",
          "text": [
            "\n",
            "Classification Report for Topic Classification:\n",
            "\n",
            "                         precision    recall  f1-score   support\n",
            "\n",
            "Artificial Intelligence       0.24      1.00      0.39         6\n",
            "        Neural Networks       1.00      0.69      0.82        62\n",
            "\n",
            "               accuracy                           0.72        68\n",
            "              macro avg       0.62      0.85      0.60        68\n",
            "           weighted avg       0.93      0.72      0.78        68\n",
            "\n"
          ]
        }
      ]
    },
    {
      "cell_type": "code",
      "source": [
        "# --- Confusion Matrix Visualization for Topic Classification ---\n",
        "conf_matrix_topic = confusion_matrix(y_test_topic, y_pred_topic)\n",
        "plt.figure(figsize=(10, 7))\n",
        "sns.heatmap(conf_matrix_topic, annot=True, fmt='d', cmap='Blues',\n",
        "            xticklabels=label_encoder_topic.classes_, yticklabels=label_encoder_topic.classes_)\n",
        "plt.title('Confusion Matrix for Topic Classification')\n",
        "plt.xlabel('Predicted')\n",
        "plt.ylabel('Actual')"
      ],
      "metadata": {
        "colab": {
          "base_uri": "https://localhost:8080/",
          "height": 573
        },
        "id": "j7qea1nucm85",
        "outputId": "ecc937ca-f375-4fe1-b65d-d8475993a57b"
      },
      "execution_count": 15,
      "outputs": [
        {
          "output_type": "execute_result",
          "data": {
            "text/plain": [
              "Text(95.7222222222222, 0.5, 'Actual')"
            ]
          },
          "metadata": {},
          "execution_count": 15
        },
        {
          "output_type": "display_data",
          "data": {
            "text/plain": [
              "<Figure size 1000x700 with 2 Axes>"
            ],
            "image/png": "[encoded data removed]"
          },
          "metadata": {}
        }
      ]
    },
    {
      "cell_type": "code",
      "source": [
        "# Define example inputs for testing with titles and text\n",
        "example_inputs = [\n",
        "    {\n",
        "        \"title\": \"Cloud Services Explained: Navigating AWS, Azure, and Google Cloud\",\n",
        "        \"text\": \"Cloud computing offers a variety of services that enhance flexibility and scalability for businesses. This article provides an overview of major cloud service providers, including AWS, Azure, and Google Cloud, and compares their offerings. We will discuss various cloud models, such as IaaS, PaaS, and SaaS, to help you choose the right solution for your needs.\"\n",
        "    },\n",
        "    {\n",
        "    \"title\": \"Deep Learning for Image Classification\",\n",
        "    \"text\": \"Convolutional Neural Networks (CNNs) are widely used for image classification tasks. In this article, we explore how CNNs work, the training process, and their application in areas such as facial recognition, medical imaging, and autonomous vehicles.\"\n",
        "    },\n",
        "]\n",
        "\n",
        "# Preprocess and vectorize the example inputs\n",
        "preprocessed_inputs = [\n",
        "    preprocess_text(item[\"title\"] + \" \" + item[\"text\"]) for item in example_inputs\n",
        "]\n",
        "input_vectors = np.vstack([vectorize_text(tokens, word2vec_model) for tokens in preprocessed_inputs])\n",
        "\n",
        "# Create a final input vector using only the features that were kept during training\n",
        "input_vectors_final = input_vectors[:, features_to_keep]  # Use the features kept during training for claps\n",
        "input_vectors_final_topic = input_vectors[:, features_to_keep_topic]  # Use the features kept during training for topics\n",
        "\n",
        "# Make predictions for claps categories\n",
        "predictions_claps = svm_model.predict(input_vectors_final)\n",
        "\n",
        "# Make predictions for topics\n",
        "predictions_topic = svm_model_topic.predict(input_vectors_final_topic)\n",
        "\n",
        "# Decode the predictions back to original category and topic names\n",
        "predicted_claps = label_encoder_claps.inverse_transform(predictions_claps)\n",
        "predicted_topics = label_encoder_topic.inverse_transform(predictions_topic)\n",
        "\n",
        "# Display the results\n",
        "for item, clap, topic in zip(example_inputs, predicted_claps, predicted_topics):\n",
        "    print(f\"Title: {item['title']}\\nPredicted Clap Category: {clap}\\nPredicted Topic: {topic}\\n\")\n",
        "\n",
        "plt.show()\n"
      ],
      "metadata": {
        "colab": {
          "base_uri": "https://localhost:8080/"
        },
        "id": "_jFP_oREctwl",
        "outputId": "c1b53c56-3167-4026-e666-c2a8cd3b51d9"
      },
      "execution_count": 16,
      "outputs": [
        {
          "output_type": "stream",
          "name": "stdout",
          "text": [
            "Title: Cloud Services Explained: Navigating AWS, Azure, and Google Cloud\n",
            "Predicted Clap Category: Low\n",
            "Predicted Topic: Artificial Intelligence\n",
            "\n",
            "Title: Deep Learning for Image Classification\n",
            "Predicted Clap Category: High\n",
            "Predicted Topic: Neural Networks\n",
            "\n"
          ]
        }
      ]
    }
  ]
}