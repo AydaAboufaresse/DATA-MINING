{
  "nbformat": 4,
  "nbformat_minor": 0,
  "metadata": {
    "colab": {
      "provenance": [],
      "authorship_tag": "ABX9TyOfIEhVKhxD7RyK6MMIWpik",
      "include_colab_link": true
    },
    "kernelspec": {
      "name": "python3",
      "display_name": "Python 3"
    },
    "language_info": {
      "name": "python"
    }
  },
  "cells": [
    {
      "cell_type": "markdown",
      "metadata": {
        "id": "view-in-github",
        "colab_type": "text"
      },
      "source": [
        "<a href=\"https://colab.research.google.com/github/AydaAboufaresse/DATA-MINING/blob/main/FLOW4.ipynb\" target=\"_parent\"><img src=\"https://colab.research.google.com/assets/colab-badge.svg\" alt=\"Open In Colab\"/></a>"
      ]
    },
    {
      "cell_type": "code",
      "execution_count": 1,
      "metadata": {
        "colab": {
          "base_uri": "https://localhost:8080/"
        },
        "id": "1rhL7hAwfKK2",
        "outputId": "ace04530-f39f-4417-91d6-0928d6569a33"
      },
      "outputs": [
        {
          "output_type": "stream",
          "name": "stderr",
          "text": [
            "[nltk_data] Downloading package punkt to /root/nltk_data...\n",
            "[nltk_data]   Unzipping tokenizers/punkt.zip.\n",
            "[nltk_data] Downloading package stopwords to /root/nltk_data...\n",
            "[nltk_data]   Unzipping corpora/stopwords.zip.\n",
            "[nltk_data] Downloading package punkt_tab to /root/nltk_data...\n",
            "[nltk_data]   Unzipping tokenizers/punkt_tab.zip.\n"
          ]
        }
      ],
      "source": [
        "# Required libraries\n",
        "import pandas as pd\n",
        "import numpy as np\n",
        "from nltk.tokenize import word_tokenize\n",
        "from nltk.corpus import stopwords\n",
        "from sklearn.model_selection import train_test_split\n",
        "from sklearn.svm import SVC\n",
        "from sklearn.metrics import classification_report, accuracy_score, confusion_matrix\n",
        "from sklearn.preprocessing import LabelEncoder\n",
        "import nltk\n",
        "import seaborn as sns\n",
        "import matplotlib.pyplot as plt\n",
        "\n",
        "import re\n",
        "from nltk.stem import PorterStemmer\n",
        "\n",
        "# Ensure necessary NLTK resources are downloaded\n",
        "nltk.download('punkt')\n",
        "nltk.download('stopwords')\n",
        "nltk.download('punkt_tab')\n",
        "\n",
        "# Load the dataset\n",
        "df = pd.read_csv('articles.csv')"
      ]
    },
    {
      "cell_type": "code",
      "source": [
        "# Function to convert 'claps' from string to numeric\n",
        "def convert_claps(value):\n",
        "    if isinstance(value, str):\n",
        "        if 'K' in value:\n",
        "            return float(value.replace('K', '').replace(',', '').strip()) * 1000\n",
        "        return float(value.replace(',', '').strip())\n",
        "    return value\n",
        "\n",
        "# Convert the 'claps' column to numeric\n",
        "df['claps'] = df['claps'].apply(convert_claps)\n",
        "\n",
        "# Fill NaN values with the mean of the column\n",
        "df['claps'] = df['claps'].fillna(df['claps'].mean())\n",
        "\n",
        "# Function to classify claps\n",
        "def classify_claps(claps):\n",
        "    if claps < 1000:\n",
        "        return \"Low\"\n",
        "    elif 1000 <= claps < 2000:\n",
        "        return \"Medium\"\n",
        "    else:\n",
        "        return \"High\"\n",
        "\n",
        "# Apply classification\n",
        "df['claps_category'] = df['claps'].apply(classify_claps)"
      ],
      "metadata": {
        "id": "udzPU8T5l4vp"
      },
      "execution_count": 2,
      "outputs": []
    },
    {
      "cell_type": "code",
      "source": [
        "# Print the claps category distribution\n",
        "print(\"\\nClaps Category Distribution:\\n\", df['claps_category'].value_counts())"
      ],
      "metadata": {
        "colab": {
          "base_uri": "https://localhost:8080/"
        },
        "id": "TaElBQHvmEhF",
        "outputId": "7c1a0020-a893-4571-8bce-d9b4a51e129d"
      },
      "execution_count": 3,
      "outputs": [
        {
          "output_type": "stream",
          "name": "stdout",
          "text": [
            "\n",
            "Claps Category Distribution:\n",
            " claps_category\n",
            "High      172\n",
            "Low       141\n",
            "Medium     24\n",
            "Name: count, dtype: int64\n"
          ]
        }
      ]
    },
    {
      "cell_type": "code",
      "source": [
        "import matplotlib.pyplot as plt\n",
        "import seaborn as sns\n",
        "\n",
        "# Optionally, visualize the claps category distribution with a bar plot\n",
        "plt.figure(figsize=(8, 6))\n",
        "sns.countplot(data=df, hue='claps_category', palette='viridis', x='claps_category', legend=False)\n",
        "plt.title('Claps Category Distribution')\n",
        "plt.xlabel('Claps Category')\n",
        "plt.ylabel('Count')\n",
        "plt.show()"
      ],
      "metadata": {
        "colab": {
          "base_uri": "https://localhost:8080/",
          "height": 544
        },
        "id": "ibazHguQm4Td",
        "outputId": "5dbd2178-48f2-4d41-d6a1-608d8099ac51"
      },
      "execution_count": 4,
      "outputs": [
        {
          "output_type": "display_data",
          "data": {
            "text/plain": [
              "<Figure size 800x600 with 1 Axes>"
            ],
            "image/png": "[encoded data removed]"
          },
          "metadata": {}
        }
      ]
    },
    {
      "cell_type": "code",
      "source": [
        "# --- Define Topics ---\n",
        "topics_keywords = {\n",
        "    \"Neural Networks\": [\"network\", \"neural\", \"layer\", \"output\", \"neuron\", \"training\", \"input\", \"weights\", \"function\", \"layers\"],\n",
        "    \"Artificial Intelligence\": [\"ai\", \"intelligence\", \"human\", \"people\", \"technology\", \"artificial\", \"google\", \"humans\", \"computer\"],\n",
        "    \"Reinforcement Learning\": [\"table\", \"action\", \"policy\", \"learning\", \"reward\", \"actions\", \"network\", \"environment\", \"state\", \"rl\"],\n",
        "    \"Machine Learning & Data Science\": [\"learning\", \"data\", \"machine\", \"course\", \"model\", \"ml\", \"science\", \"deep\", \"algorithms\", \"house\"],\n",
        "    \"Computer Vision\": [\"image\", \"model\", \"cnn\", \"images\", \"pi\", \"object\", \"gtx\", \"training\", \"1080\", \"deep\"],\n",
        "}\n"
      ],
      "metadata": {
        "id": "E0Fpo4GTm8AN"
      },
      "execution_count": 5,
      "outputs": []
    },
    {
      "cell_type": "code",
      "source": [
        "# Classify topics based on keywords in both title and text\n",
        "def classify_topic(row, keywords):\n",
        "    combined_text = f\"{row['title'].lower()} {row['text'].lower()}\"\n",
        "    for topic, words in keywords.items():\n",
        "        if any(word in combined_text for word in words):\n",
        "            return topic\n",
        "    return \"Other\"\n",
        "\n",
        "df['topic'] = df.apply(lambda row: classify_topic(row, topics_keywords), axis=1)"
      ],
      "metadata": {
        "id": "Q6UK3TMKm_-q"
      },
      "execution_count": 6,
      "outputs": []
    },
    {
      "cell_type": "code",
      "source": [
        "print(\"\\nTopic Distribution:\\n\", df['topic'].value_counts())"
      ],
      "metadata": {
        "colab": {
          "base_uri": "https://localhost:8080/"
        },
        "id": "etRpgxwJnCwJ",
        "outputId": "b5a40671-2a40-45a5-a13b-58dd8da19f8a"
      },
      "execution_count": 7,
      "outputs": [
        {
          "output_type": "stream",
          "name": "stdout",
          "text": [
            "\n",
            "Topic Distribution:\n",
            " topic\n",
            "Neural Networks            306\n",
            "Artificial Intelligence     31\n",
            "Name: count, dtype: int64\n"
          ]
        }
      ]
    },
    {
      "cell_type": "code",
      "source": [
        "import matplotlib.pyplot as plt\n",
        "import seaborn as sns\n",
        "\n",
        "# Optionally, visualize the claps category distribution with a bar plot\n",
        "plt.figure(figsize=(8, 6))\n",
        "sns.countplot(data=df, hue='topic', palette='viridis', x='topic', legend=False)\n",
        "plt.title('Topic Distribution')\n",
        "plt.xlabel('Topic Distribution')\n",
        "plt.ylabel('Count')\n",
        "plt.show()"
      ],
      "metadata": {
        "colab": {
          "base_uri": "https://localhost:8080/",
          "height": 544
        },
        "id": "XLDd93rPnGq7",
        "outputId": "7dad4a39-88f2-43d5-a40a-45c7b33bf93c"
      },
      "execution_count": 8,
      "outputs": [
        {
          "output_type": "display_data",
          "data": {
            "text/plain": [
              "<Figure size 800x600 with 1 Axes>"
            ],
            "image/png": "[encoded data removed]"
          },
          "metadata": {}
        }
      ]
    },
    {
      "cell_type": "code",
      "source": [
        "# --- Text Preprocessing ---\n",
        "stop_words = set(stopwords.words('english'))\n",
        "stemmer = PorterStemmer()\n",
        "\n",
        "\n",
        "# --- Text Preprocessing with Porter Stemmer ---\n",
        "def preprocess_text(text):\n",
        "    # Lowercase the text\n",
        "    text = text.lower()\n",
        "\n",
        "    # Remove URLs and email addresses\n",
        "    text = re.sub(r'http\\S+|www\\S+|https\\S+|@[\\w]+', '', text)\n",
        "\n",
        "    # Remove punctuation and special characters (excluding spaces)\n",
        "    text = re.sub(r'[^\\w\\s]', '', text)\n",
        "\n",
        "    # Tokenize the text\n",
        "    tokens = word_tokenize(text)\n",
        "\n",
        "    # Remove stopwords and apply stemming\n",
        "    tokens = [stemmer.stem(word) for word in tokens if word.isalpha() and word not in stop_words]\n",
        "\n",
        "    # Remove words that are too long or too short (optional)\n",
        "    tokens = [word for word in tokens if len(word) > 2 and len(word) < 20]\n",
        "\n",
        "    return tokens\n",
        "# Apply preprocessing to both text and title for GloVe\n",
        "df['processed_text'] = df['text'].apply(preprocess_text)\n",
        "df['processed_title'] = df['title'].apply(preprocess_text)\n",
        "\n",
        "# --- Combine Processed Text and Title ---\n",
        "# Create a combined tokens column for each row\n",
        "df['combined_processed'] = df.apply(lambda row: row['processed_text'] + row['processed_title'], axis=1)"
      ],
      "metadata": {
        "id": "sPxEMqdYnL6N"
      },
      "execution_count": 9,
      "outputs": []
    },
    {
      "cell_type": "code",
      "source": [
        "# --- Load GloVe Embeddings ---\n",
        "def load_glove_embeddings(file_path):\n",
        "    glove_embeddings = {}\n",
        "    with open(file_path, 'r', encoding='utf-8') as f:\n",
        "        for line in f:\n",
        "            parts = line.split()\n",
        "            word = parts[0]\n",
        "            vector = np.array(parts[1:], dtype=np.float32)\n",
        "            glove_embeddings[word] = vector\n",
        "    return glove_embeddings\n",
        "\n",
        "glove_embeddings = load_glove_embeddings('glove.6B.200d.txt')  # Replace with actual file path\n",
        "# --- Vectorize Text Using GloVe ---\n",
        "def vectorize_text_glove(tokens, glove_model):\n",
        "    vectors = [glove_model[word] for word in tokens if word in glove_model]\n",
        "    return np.mean(vectors, axis=0) if vectors else np.zeros(200)  # Default vector size is 100 for 100d GloVe\n",
        "\n",
        "# Create document vectors using GloVe embeddings\n",
        "df['document_vector_glove'] = df['combined_processed'].apply(lambda x: vectorize_text_glove(x, glove_embeddings))"
      ],
      "metadata": {
        "id": "uGCpID2XnQlA"
      },
      "execution_count": 10,
      "outputs": []
    },
    {
      "cell_type": "code",
      "source": [
        "\n",
        "\n",
        "# --- Train-Test Split ---\n",
        "X = np.vstack(df['document_vector_glove'].values)  # Use the GloVe vectors\n",
        "y_claps = df['claps_category']  # Use claps category for classification\n",
        "\n",
        "# Encode target labels for claps\n",
        "label_encoder_claps = LabelEncoder()\n",
        "y_encoded_claps = label_encoder_claps.fit_transform(y_claps)"
      ],
      "metadata": {
        "id": "YM-J6yH5nW7u"
      },
      "execution_count": 11,
      "outputs": []
    },
    {
      "cell_type": "code",
      "source": [
        "# --- Train-Test Split with Stratification ---\n",
        "X_train, X_test, y_train_claps, y_test_claps = train_test_split(\n",
        "    X,\n",
        "    y_encoded_claps,\n",
        "    test_size=0.2,\n",
        "    random_state=42,\n",
        "    stratify=y_encoded_claps  # Stratify by target labels\n",
        ")"
      ],
      "metadata": {
        "id": "d_QxpzfMnaN6"
      },
      "execution_count": 12,
      "outputs": []
    },
    {
      "cell_type": "code",
      "source": [
        "# --- Backward Elimination ---\n",
        "n_features = X_train.shape[1]\n",
        "features_to_keep = list(range(n_features))\n",
        "\n",
        "best_accuracy = 0.0\n",
        "\n",
        "while len(features_to_keep) > 0:\n",
        "    accuracies = []\n",
        "\n",
        "    # Evaluate model without each feature\n",
        "    for feature in features_to_keep:\n",
        "        temp_features = [f for f in features_to_keep if f != feature]\n",
        "        X_train_temp = X_train[:, temp_features]\n",
        "        X_test_temp = X_test[:, temp_features]\n",
        "\n",
        "        # Train and evaluate SVM model\n",
        "        svm_model_temp = SVC(kernel='linear', class_weight='balanced', random_state=42)\n",
        "        svm_model_temp.fit(X_train_temp, y_train_claps)\n",
        "\n",
        "        # Predict and calculate accuracy\n",
        "        temp_predictions = svm_model_temp.predict(X_test_temp)\n",
        "        temp_accuracy = accuracy_score(y_test_claps, temp_predictions)\n",
        "        accuracies.append((feature, temp_accuracy))\n",
        "\n",
        "    # Find the feature with the lowest accuracy when removed\n",
        "    feature_to_remove, lowest_accuracy = min(accuracies, key=lambda x: x[1])\n",
        "\n",
        "    # If the lowest accuracy is better than the best accuracy, keep it\n",
        "    if lowest_accuracy < best_accuracy:\n",
        "        break\n",
        "\n",
        "    # Remove the feature and update the best accuracy\n",
        "    features_to_keep.remove(feature_to_remove)\n",
        "    best_accuracy = lowest_accuracy\n",
        "    print(f\"Removed feature {feature_to_remove}, New Best Accuracy for Claps Categories: {best_accuracy:.4f}\")\n",
        "\n",
        "# Final feature set after backward elimination\n",
        "X_train_final = X_train[:, features_to_keep]\n",
        "X_test_final = X_test[:, features_to_keep]\n"
      ],
      "metadata": {
        "colab": {
          "base_uri": "https://localhost:8080/"
        },
        "id": "V8gvKjHTne0O",
        "outputId": "fce817b3-ba44-4cd1-b84d-114e211015fa"
      },
      "execution_count": 13,
      "outputs": [
        {
          "output_type": "stream",
          "name": "stdout",
          "text": [
            "Removed feature 5, New Best Accuracy for Claps Categories: 0.5000\n"
          ]
        }
      ]
    },
    {
      "cell_type": "code",
      "source": [
        "# --- Train the SVM model after backward elimination ---\n",
        "svm_model = SVC(kernel='linear', class_weight='balanced', random_state=42)\n",
        "svm_model.fit(X_train_final, y_train_claps)\n",
        "\n",
        "# Final Predictions for claps categories\n",
        "y_pred_claps = svm_model.predict(X_test_final)\n",
        "\n",
        "# Calculate final accuracy for claps categories\n",
        "final_accuracy_claps = accuracy_score(y_test_claps, y_pred_claps)\n",
        "print(f\"Final Accuracy for Claps Categories: {final_accuracy_claps:.4f}\")"
      ],
      "metadata": {
        "colab": {
          "base_uri": "https://localhost:8080/"
        },
        "id": "SDqMAUeLnjPP",
        "outputId": "6ac9efde-fbac-4959-9bfe-d36dbf3e7249"
      },
      "execution_count": 14,
      "outputs": [
        {
          "output_type": "stream",
          "name": "stdout",
          "text": [
            "Final Accuracy for Claps Categories: 0.5000\n"
          ]
        }
      ]
    },
    {
      "cell_type": "code",
      "source": [
        "# Classification Report for claps categories\n",
        "print(\"\\nClassification Report for Claps Categories:\\n\")\n",
        "print(classification_report(\n",
        "    y_test_claps,\n",
        "    y_pred_claps,\n",
        "    labels=sorted(set(y_train_claps)),  # Ensure that labels correspond to the training set\n",
        "    target_names=label_encoder_claps.inverse_transform(sorted(set(y_train_claps))).tolist(),\n",
        "))"
      ],
      "metadata": {
        "colab": {
          "base_uri": "https://localhost:8080/"
        },
        "id": "JCgguuKJnneu",
        "outputId": "eaa2035c-1062-4d4c-baa8-d111757ac270"
      },
      "execution_count": 15,
      "outputs": [
        {
          "output_type": "stream",
          "name": "stdout",
          "text": [
            "\n",
            "Classification Report for Claps Categories:\n",
            "\n",
            "              precision    recall  f1-score   support\n",
            "\n",
            "        High       0.59      0.54      0.57        35\n",
            "         Low       0.60      0.43      0.50        28\n",
            "      Medium       0.19      0.60      0.29         5\n",
            "\n",
            "    accuracy                           0.50        68\n",
            "   macro avg       0.46      0.52      0.45        68\n",
            "weighted avg       0.57      0.50      0.52        68\n",
            "\n"
          ]
        }
      ]
    },
    {
      "cell_type": "code",
      "source": [
        "# --- Confusion Matrix Visualization for Claps Categories ---\n",
        "conf_matrix_claps = confusion_matrix(y_test_claps, y_pred_claps)\n",
        "plt.figure(figsize=(10, 7))\n",
        "sns.heatmap(conf_matrix_claps, annot=True, fmt='d', cmap='Blues',\n",
        "            xticklabels=label_encoder_claps.classes_, yticklabels=label_encoder_claps.classes_)\n",
        "plt.title('Confusion Matrix for Claps Categories')\n",
        "plt.xlabel('Predicted')\n",
        "plt.ylabel('Actual')\n",
        "plt.show()\n"
      ],
      "metadata": {
        "colab": {
          "base_uri": "https://localhost:8080/",
          "height": 546
        },
        "id": "pg-QWx3Qnrmq",
        "outputId": "caf30aa9-b676-47f7-b6c4-ede052646ec8"
      },
      "execution_count": 16,
      "outputs": [
        {
          "output_type": "display_data",
          "data": {
            "text/plain": [
              "<Figure size 1000x700 with 2 Axes>"
            ],
            "image/png": "[encoded data removed]"
          },
          "metadata": {}
        }
      ]
    },
    {
      "cell_type": "code",
      "source": [
        "# --- Topic Classification ---\n",
        "y_topic = df['topic']  # Use topic for classification\n",
        "\n",
        "# Encode target labels for topics\n",
        "label_encoder_topic = LabelEncoder()\n",
        "y_encoded_topic = label_encoder_topic.fit_transform(y_topic)\n",
        "\n",
        "# --- Train-Test Split with Stratification ---\n",
        "X_train_topic, X_test_topic, y_train_topic, y_test_topic = train_test_split(\n",
        "    X,\n",
        "    y_encoded_topic,\n",
        "    test_size=0.2,\n",
        "    random_state=42,\n",
        "    stratify=y_encoded_topic  # Stratify by target labels\n",
        ")\n"
      ],
      "metadata": {
        "id": "5xHS59vnnvb5"
      },
      "execution_count": 17,
      "outputs": []
    },
    {
      "cell_type": "code",
      "source": [
        "\n",
        "# --- Backward Elimination for Topic Classification ---\n",
        "n_features_topic = X_train_topic.shape[1]\n",
        "features_to_keep_topic = list(range(n_features_topic))\n",
        "\n",
        "best_accuracy_topic = 0.0\n",
        "\n",
        "while len(features_to_keep_topic) > 0:\n",
        "    accuracies = []\n",
        "\n",
        "    # Evaluate model without each feature\n",
        "    for feature in features_to_keep_topic:\n",
        "        temp_features = [f for f in features_to_keep_topic if f != feature]\n",
        "        X_train_temp_topic = X_train_topic[:, temp_features]\n",
        "        X_test_temp_topic = X_test_topic[:, temp_features]\n",
        "\n",
        "        # Train and evaluate SVM model\n",
        "        svm_model_temp_topic = SVC(kernel='linear', class_weight='balanced', random_state=42)\n",
        "        svm_model_temp_topic.fit(X_train_temp_topic, y_train_topic)\n",
        "\n",
        "        # Predict and calculate accuracy\n",
        "        temp_predictions_topic = svm_model_temp_topic.predict(X_test_temp_topic)\n",
        "        temp_accuracy_topic = accuracy_score(y_test_topic, temp_predictions_topic)\n",
        "        accuracies.append((feature, temp_accuracy_topic))\n",
        "\n",
        "    # Find the feature with the lowest accuracy when removed\n",
        "    feature_to_remove_topic, lowest_accuracy_topic = min(accuracies, key=lambda x: x[1])\n",
        "\n",
        "    # If the lowest accuracy is better than the best accuracy, keep it\n",
        "    if lowest_accuracy_topic < best_accuracy_topic:\n",
        "        break\n",
        "\n",
        "    # Remove the feature and update the best accuracy\n",
        "    features_to_keep_topic.remove(feature_to_remove_topic)\n",
        "    best_accuracy_topic = lowest_accuracy_topic\n",
        "    print(f\"Removed feature {feature_to_remove_topic}, New Best Accuracy for Topic Classification: {best_accuracy_topic:.4f}\")\n",
        "\n",
        "# Final feature set after backward elimination for topic classification\n",
        "X_train_final_topic = X_train_topic[:, features_to_keep_topic]\n",
        "X_test_final_topic = X_test_topic[:, features_to_keep_topic]"
      ],
      "metadata": {
        "colab": {
          "base_uri": "https://localhost:8080/"
        },
        "id": "6AaRTALSnz9E",
        "outputId": "7065ae24-988a-47c7-81af-c8038451ca9a"
      },
      "execution_count": 18,
      "outputs": [
        {
          "output_type": "stream",
          "name": "stdout",
          "text": [
            "Removed feature 14, New Best Accuracy for Topic Classification: 0.8088\n"
          ]
        }
      ]
    },
    {
      "cell_type": "code",
      "source": [
        "# --- Train the SVM model after backward elimination for topic classification ---\n",
        "svm_model_topic = SVC(kernel='linear', class_weight='balanced', random_state=42)\n",
        "svm_model_topic.fit(X_train_final_topic, y_train_topic)\n",
        "\n",
        "# Final Predictions for topic classification\n",
        "y_pred_topic = svm_model_topic.predict(X_test_final_topic)\n",
        "\n",
        "# Calculate final accuracy for topic classification\n",
        "final_accuracy_topic = accuracy_score(y_test_topic, y_pred_topic)\n",
        "print(f\"Final Accuracy for Topic Classification: {final_accuracy_topic:.4f}\")"
      ],
      "metadata": {
        "colab": {
          "base_uri": "https://localhost:8080/"
        },
        "id": "m_r6mlHQn3dl",
        "outputId": "0e9761b6-edd6-4ef9-f7ab-b14ea6a7e78b"
      },
      "execution_count": 19,
      "outputs": [
        {
          "output_type": "stream",
          "name": "stdout",
          "text": [
            "Final Accuracy for Topic Classification: 0.8088\n"
          ]
        }
      ]
    },
    {
      "cell_type": "code",
      "source": [
        "# Classification Report for topic classification\n",
        "print(\"\\nClassification Report for Topic Classification:\\n\")\n",
        "print(classification_report(\n",
        "    y_test_topic,\n",
        "    y_pred_topic,\n",
        "    labels=sorted(set(y_train_topic)),  # Ensure that labels correspond to the training set\n",
        "    target_names=label_encoder_topic.inverse_transform(sorted(set(y_train_topic))).tolist(),\n",
        "))"
      ],
      "metadata": {
        "colab": {
          "base_uri": "https://localhost:8080/"
        },
        "id": "_Or6HOJOn9Mt",
        "outputId": "2893d6c6-b83f-4465-fa0c-b371eb92c78a"
      },
      "execution_count": 20,
      "outputs": [
        {
          "output_type": "stream",
          "name": "stdout",
          "text": [
            "\n",
            "Classification Report for Topic Classification:\n",
            "\n",
            "                         precision    recall  f1-score   support\n",
            "\n",
            "Artificial Intelligence       0.27      0.67      0.38         6\n",
            "        Neural Networks       0.96      0.82      0.89        62\n",
            "\n",
            "               accuracy                           0.81        68\n",
            "              macro avg       0.61      0.74      0.63        68\n",
            "           weighted avg       0.90      0.81      0.84        68\n",
            "\n"
          ]
        }
      ]
    },
    {
      "cell_type": "code",
      "source": [
        "\n",
        "# --- Confusion Matrix Visualization for Topic Classification ---\n",
        "conf_matrix_topic = confusion_matrix(y_test_topic, y_pred_topic)\n",
        "plt.figure(figsize=(10, 7))\n",
        "sns.heatmap(conf_matrix_topic, annot=True, fmt='d', cmap='Blues',\n",
        "            xticklabels=label_encoder_topic.classes_, yticklabels=label_encoder_topic.classes_)\n",
        "plt.title('Confusion Matrix for Topic Classification')\n",
        "plt.xlabel('Predicted')\n",
        "plt.ylabel('Actual')\n",
        "plt.show()\n"
      ],
      "metadata": {
        "colab": {
          "base_uri": "https://localhost:8080/",
          "height": 555
        },
        "id": "SLYVb2hVoDKI",
        "outputId": "13cd2153-0de7-465f-9662-95b7868183c2"
      },
      "execution_count": 21,
      "outputs": [
        {
          "output_type": "display_data",
          "data": {
            "text/plain": [
              "<Figure size 1000x700 with 2 Axes>"
            ],
            "image/png": "[encoded data removed]"
          },
          "metadata": {}
        }
      ]
    },
    {
      "cell_type": "code",
      "source": [
        "# Define example inputs for testing with titles and text\n",
        "example_inputs = [\n",
        "    {\n",
        "        \"title\": \"Cloud Services Explained: Navigating AWS, Azure, and Google Cloud\",\n",
        "        \"text\": \"Cloud computing offers a variety of services that enhance flexibility and scalability for businesses. This article provides an overview of major cloud service providers, including AWS, Azure, and Google Cloud, and compares their offerings. We will discuss various cloud models, such as IaaS, PaaS, and SaaS, to help you choose the right solution for your needs.\"\n",
        "    },\n",
        "    {\n",
        "        \"title\": \"Deep Learning for Image Classification\",\n",
        "        \"text\": \"Convolutional Neural Networks (CNNs) are widely used for image classification tasks. In this article, we explore how CNNs work, the training process, and their application in areas such as facial recognition, medical imaging, and autonomous vehicles.\"\n",
        "    },\n",
        "]\n",
        "\n",
        "# Preprocess and vectorize the example inputs using GloVe\n",
        "preprocessed_inputs = [\n",
        "    preprocess_text(item[\"title\"] + \" \" + item[\"text\"]) for item in example_inputs\n",
        "]\n",
        "input_vectors_glove = np.vstack([vectorize_text_glove(tokens, glove_embeddings) for tokens in preprocessed_inputs])\n",
        "\n",
        "# Check the shape of the training data to confirm dimensions\n",
        "print(f\"Shape of X_train during training: {X_train.shape}\")  # Print the shape of the training data\n",
        "\n",
        "# Ensure the input vectors for prediction have the same shape by applying features_to_keep\n",
        "input_vectors_final_glove = input_vectors_glove[:, features_to_keep]  # Apply the same features_to_keep as for training\n",
        "\n",
        "# Check the shape of the input vectors for prediction\n",
        "print(f\"Shape of input vectors for prediction: {input_vectors_final_glove.shape}\")\n",
        "\n",
        "# Make predictions for claps category\n",
        "predictions_claps = svm_model.predict(input_vectors_final_glove)\n",
        "\n",
        "# Make predictions for topics using GloVe vectors\n",
        "predictions_topic = svm_model_topic.predict(input_vectors_final_glove)\n",
        "\n",
        "# Decode predictions and display the results\n",
        "predicted_claps = label_encoder_claps.inverse_transform(predictions_claps)  # Decoding claps predictions\n",
        "predicted_topics = label_encoder_topic.inverse_transform(predictions_topic)  # Decoding topic predictions\n",
        "\n",
        "# Print results for each input example\n",
        "for item, clap, topic in zip(example_inputs, predicted_claps, predicted_topics):\n",
        "    print(f\"Title: {item['title']}\\nPredicted Clap Category: {clap}\\nPredicted Topic: {topic}\\n\")\n",
        "\n",
        "\n",
        "\n",
        "\n"
      ],
      "metadata": {
        "colab": {
          "base_uri": "https://localhost:8080/"
        },
        "id": "W35Lk_0BoGby",
        "outputId": "1dd82b32-dac0-4901-aba1-2da62876666a"
      },
      "execution_count": 22,
      "outputs": [
        {
          "output_type": "stream",
          "name": "stdout",
          "text": [
            "Shape of X_train during training: (269, 200)\n",
            "Shape of input vectors for prediction: (2, 199)\n",
            "Title: Cloud Services Explained: Navigating AWS, Azure, and Google Cloud\n",
            "Predicted Clap Category: Low\n",
            "Predicted Topic: Neural Networks\n",
            "\n",
            "Title: Deep Learning for Image Classification\n",
            "Predicted Clap Category: High\n",
            "Predicted Topic: Neural Networks\n",
            "\n"
          ]
        }
      ]
    }
  ]
}